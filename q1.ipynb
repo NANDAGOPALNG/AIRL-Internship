{
  "nbformat": 4,
  "nbformat_minor": 0,
  "metadata": {
    "colab": {
      "provenance": [],
      "gpuType": "T4"
    },
    "kernelspec": {
      "name": "python3",
      "display_name": "Python 3"
    },
    "language_info": {
      "name": "python"
    },
    "accelerator": "GPU",
    "widgets": {
      "application/vnd.jupyter.widget-state+json": {
        "09dc5a91331c44afb24c96a4d39301b6": {
          "model_module": "@jupyter-widgets/controls",
          "model_name": "HBoxModel",
          "model_module_version": "1.5.0",
          "state": {
            "_dom_classes": [],
            "_model_module": "@jupyter-widgets/controls",
            "_model_module_version": "1.5.0",
            "_model_name": "HBoxModel",
            "_view_count": null,
            "_view_module": "@jupyter-widgets/controls",
            "_view_module_version": "1.5.0",
            "_view_name": "HBoxView",
            "box_style": "",
            "children": [
              "IPY_MODEL_d704991b21be46409b833d6795411824",
              "IPY_MODEL_fd5eb1974fff48d9bef39b759a0d2781",
              "IPY_MODEL_5f6395ef4ac74963abd187eef8c64c3c"
            ],
            "layout": "IPY_MODEL_9a66c2f13df241b89db3e16418cf7fd1"
          }
        },
        "d704991b21be46409b833d6795411824": {
          "model_module": "@jupyter-widgets/controls",
          "model_name": "HTMLModel",
          "model_module_version": "1.5.0",
          "state": {
            "_dom_classes": [],
            "_model_module": "@jupyter-widgets/controls",
            "_model_module_version": "1.5.0",
            "_model_name": "HTMLModel",
            "_view_count": null,
            "_view_module": "@jupyter-widgets/controls",
            "_view_module_version": "1.5.0",
            "_view_name": "HTMLView",
            "description": "",
            "description_tooltip": null,
            "layout": "IPY_MODEL_c7f19df92cc541e49a18b02c805339be",
            "placeholder": "​",
            "style": "IPY_MODEL_4df75041994647c89111c49cb900badb",
            "value": "100%"
          }
        },
        "fd5eb1974fff48d9bef39b759a0d2781": {
          "model_module": "@jupyter-widgets/controls",
          "model_name": "FloatProgressModel",
          "model_module_version": "1.5.0",
          "state": {
            "_dom_classes": [],
            "_model_module": "@jupyter-widgets/controls",
            "_model_module_version": "1.5.0",
            "_model_name": "FloatProgressModel",
            "_view_count": null,
            "_view_module": "@jupyter-widgets/controls",
            "_view_module_version": "1.5.0",
            "_view_name": "ProgressView",
            "bar_style": "success",
            "description": "",
            "description_tooltip": null,
            "layout": "IPY_MODEL_0cd5bbd21c3e44ea8671dd9fdec60b33",
            "max": 40,
            "min": 0,
            "orientation": "horizontal",
            "style": "IPY_MODEL_ae1eb49b693f42d48a2f88621579cf4d",
            "value": 40
          }
        },
        "5f6395ef4ac74963abd187eef8c64c3c": {
          "model_module": "@jupyter-widgets/controls",
          "model_name": "HTMLModel",
          "model_module_version": "1.5.0",
          "state": {
            "_dom_classes": [],
            "_model_module": "@jupyter-widgets/controls",
            "_model_module_version": "1.5.0",
            "_model_name": "HTMLModel",
            "_view_count": null,
            "_view_module": "@jupyter-widgets/controls",
            "_view_module_version": "1.5.0",
            "_view_name": "HTMLView",
            "description": "",
            "description_tooltip": null,
            "layout": "IPY_MODEL_4cc7c06d2b6240d49eecb55e89139671",
            "placeholder": "​",
            "style": "IPY_MODEL_0250a7b070854c10aa7bc80990c2f56d",
            "value": " 40/40 [1:06:57&lt;00:00, 100.54s/it]"
          }
        },
        "9a66c2f13df241b89db3e16418cf7fd1": {
          "model_module": "@jupyter-widgets/base",
          "model_name": "LayoutModel",
          "model_module_version": "1.2.0",
          "state": {
            "_model_module": "@jupyter-widgets/base",
            "_model_module_version": "1.2.0",
            "_model_name": "LayoutModel",
            "_view_count": null,
            "_view_module": "@jupyter-widgets/base",
            "_view_module_version": "1.2.0",
            "_view_name": "LayoutView",
            "align_content": null,
            "align_items": null,
            "align_self": null,
            "border": null,
            "bottom": null,
            "display": null,
            "flex": null,
            "flex_flow": null,
            "grid_area": null,
            "grid_auto_columns": null,
            "grid_auto_flow": null,
            "grid_auto_rows": null,
            "grid_column": null,
            "grid_gap": null,
            "grid_row": null,
            "grid_template_areas": null,
            "grid_template_columns": null,
            "grid_template_rows": null,
            "height": null,
            "justify_content": null,
            "justify_items": null,
            "left": null,
            "margin": null,
            "max_height": null,
            "max_width": null,
            "min_height": null,
            "min_width": null,
            "object_fit": null,
            "object_position": null,
            "order": null,
            "overflow": null,
            "overflow_x": null,
            "overflow_y": null,
            "padding": null,
            "right": null,
            "top": null,
            "visibility": null,
            "width": null
          }
        },
        "c7f19df92cc541e49a18b02c805339be": {
          "model_module": "@jupyter-widgets/base",
          "model_name": "LayoutModel",
          "model_module_version": "1.2.0",
          "state": {
            "_model_module": "@jupyter-widgets/base",
            "_model_module_version": "1.2.0",
            "_model_name": "LayoutModel",
            "_view_count": null,
            "_view_module": "@jupyter-widgets/base",
            "_view_module_version": "1.2.0",
            "_view_name": "LayoutView",
            "align_content": null,
            "align_items": null,
            "align_self": null,
            "border": null,
            "bottom": null,
            "display": null,
            "flex": null,
            "flex_flow": null,
            "grid_area": null,
            "grid_auto_columns": null,
            "grid_auto_flow": null,
            "grid_auto_rows": null,
            "grid_column": null,
            "grid_gap": null,
            "grid_row": null,
            "grid_template_areas": null,
            "grid_template_columns": null,
            "grid_template_rows": null,
            "height": null,
            "justify_content": null,
            "justify_items": null,
            "left": null,
            "margin": null,
            "max_height": null,
            "max_width": null,
            "min_height": null,
            "min_width": null,
            "object_fit": null,
            "object_position": null,
            "order": null,
            "overflow": null,
            "overflow_x": null,
            "overflow_y": null,
            "padding": null,
            "right": null,
            "top": null,
            "visibility": null,
            "width": null
          }
        },
        "4df75041994647c89111c49cb900badb": {
          "model_module": "@jupyter-widgets/controls",
          "model_name": "DescriptionStyleModel",
          "model_module_version": "1.5.0",
          "state": {
            "_model_module": "@jupyter-widgets/controls",
            "_model_module_version": "1.5.0",
            "_model_name": "DescriptionStyleModel",
            "_view_count": null,
            "_view_module": "@jupyter-widgets/base",
            "_view_module_version": "1.2.0",
            "_view_name": "StyleView",
            "description_width": ""
          }
        },
        "0cd5bbd21c3e44ea8671dd9fdec60b33": {
          "model_module": "@jupyter-widgets/base",
          "model_name": "LayoutModel",
          "model_module_version": "1.2.0",
          "state": {
            "_model_module": "@jupyter-widgets/base",
            "_model_module_version": "1.2.0",
            "_model_name": "LayoutModel",
            "_view_count": null,
            "_view_module": "@jupyter-widgets/base",
            "_view_module_version": "1.2.0",
            "_view_name": "LayoutView",
            "align_content": null,
            "align_items": null,
            "align_self": null,
            "border": null,
            "bottom": null,
            "display": null,
            "flex": null,
            "flex_flow": null,
            "grid_area": null,
            "grid_auto_columns": null,
            "grid_auto_flow": null,
            "grid_auto_rows": null,
            "grid_column": null,
            "grid_gap": null,
            "grid_row": null,
            "grid_template_areas": null,
            "grid_template_columns": null,
            "grid_template_rows": null,
            "height": null,
            "justify_content": null,
            "justify_items": null,
            "left": null,
            "margin": null,
            "max_height": null,
            "max_width": null,
            "min_height": null,
            "min_width": null,
            "object_fit": null,
            "object_position": null,
            "order": null,
            "overflow": null,
            "overflow_x": null,
            "overflow_y": null,
            "padding": null,
            "right": null,
            "top": null,
            "visibility": null,
            "width": null
          }
        },
        "ae1eb49b693f42d48a2f88621579cf4d": {
          "model_module": "@jupyter-widgets/controls",
          "model_name": "ProgressStyleModel",
          "model_module_version": "1.5.0",
          "state": {
            "_model_module": "@jupyter-widgets/controls",
            "_model_module_version": "1.5.0",
            "_model_name": "ProgressStyleModel",
            "_view_count": null,
            "_view_module": "@jupyter-widgets/base",
            "_view_module_version": "1.2.0",
            "_view_name": "StyleView",
            "bar_color": null,
            "description_width": ""
          }
        },
        "4cc7c06d2b6240d49eecb55e89139671": {
          "model_module": "@jupyter-widgets/base",
          "model_name": "LayoutModel",
          "model_module_version": "1.2.0",
          "state": {
            "_model_module": "@jupyter-widgets/base",
            "_model_module_version": "1.2.0",
            "_model_name": "LayoutModel",
            "_view_count": null,
            "_view_module": "@jupyter-widgets/base",
            "_view_module_version": "1.2.0",
            "_view_name": "LayoutView",
            "align_content": null,
            "align_items": null,
            "align_self": null,
            "border": null,
            "bottom": null,
            "display": null,
            "flex": null,
            "flex_flow": null,
            "grid_area": null,
            "grid_auto_columns": null,
            "grid_auto_flow": null,
            "grid_auto_rows": null,
            "grid_column": null,
            "grid_gap": null,
            "grid_row": null,
            "grid_template_areas": null,
            "grid_template_columns": null,
            "grid_template_rows": null,
            "height": null,
            "justify_content": null,
            "justify_items": null,
            "left": null,
            "margin": null,
            "max_height": null,
            "max_width": null,
            "min_height": null,
            "min_width": null,
            "object_fit": null,
            "object_position": null,
            "order": null,
            "overflow": null,
            "overflow_x": null,
            "overflow_y": null,
            "padding": null,
            "right": null,
            "top": null,
            "visibility": null,
            "width": null
          }
        },
        "0250a7b070854c10aa7bc80990c2f56d": {
          "model_module": "@jupyter-widgets/controls",
          "model_name": "DescriptionStyleModel",
          "model_module_version": "1.5.0",
          "state": {
            "_model_module": "@jupyter-widgets/controls",
            "_model_module_version": "1.5.0",
            "_model_name": "DescriptionStyleModel",
            "_view_count": null,
            "_view_module": "@jupyter-widgets/base",
            "_view_module_version": "1.2.0",
            "_view_name": "StyleView",
            "description_width": ""
          }
        }
      }
    }
  },
  "cells": [
    {
      "cell_type": "markdown",
      "source": [
        "## Getting setup\n",
        "\n",
        "As we've done previously, let's make sure we've got all of the modules we'll need for this section.\n",
        "\n",
        "We'll import the Python scripts (such as `data_setup.py` and `engine.py`) we created in [ PyTorch Going Modular](https://github.com/NANDAGOPALNG/pytorch--going_modular).\n",
        "\n",
        "To do so, we'll download [`going_modular`](https://github.com/NANDAGOPALNG/pytorch--going_modular/going_modular) directory from the `pytorch-deep-learning` repository (if we don't already have it).\n",
        "\n",
        "We'll also get the [`torchinfo`](https://github.com/TylerYep/torchinfo) package if it's not available.\n",
        "\n",
        "`torchinfo` will help later on to give us a visual representation of our model.\n",
        "\n",
        "And since later on we'll be using `torchvision`"
      ],
      "metadata": {
        "id": "osuF5XRIV78s"
      }
    },
    {
      "cell_type": "code",
      "execution_count": 1,
      "metadata": {
        "colab": {
          "base_uri": "https://localhost:8080/"
        },
        "id": "6jPqTwZsdJIJ",
        "outputId": "22bfe806-f9be-4c01-b3a3-c5dae0ba6f5f"
      },
      "outputs": [
        {
          "output_type": "stream",
          "name": "stdout",
          "text": [
            "torch version: 2.8.0+cu126\n",
            "torchvision version: 0.23.0+cu126\n"
          ]
        }
      ],
      "source": [
        "try:\n",
        "    import torch\n",
        "    import torchvision\n",
        "    assert int(torch.__version__.split(\".\")[1]) >= 12 or int(torch.__version__.split(\".\")[0]) == 2, \"torch version should be 1.12+\"\n",
        "    assert int(torchvision.__version__.split(\".\")[1]) >= 13, \"torchvision version should be 0.13+\"\n",
        "    print(f\"torch version: {torch.__version__}\")\n",
        "    print(f\"torchvision version: {torchvision.__version__}\")\n",
        "except:\n",
        "    print(f\"[INFO] torch/torchvision versions not as required, installing nightly versions.\")\n",
        "    !pip3 install -U torch torchvision torchaudio --index-url https://download.pytorch.org/whl/cu118\n",
        "    import torch\n",
        "    import torchvision\n",
        "    print(f\"torch version: {torch.__version__}\")\n",
        "    print(f\"torchvision version: {torchvision.__version__}\")"
      ]
    },
    {
      "cell_type": "code",
      "source": [
        "import matplotlib.pyplot as plt\n",
        "import torch\n",
        "import torchvision\n",
        "\n",
        "from torch import nn\n",
        "from torchvision import transforms\n",
        "\n",
        "# Try to get torchinfo, install it if it doesn't work\n",
        "try:\n",
        "    from torchinfo import summary\n",
        "except:\n",
        "    print(\"[INFO] Couldn't find torchinfo... installing it.\")\n",
        "    !pip install -q torchinfo\n",
        "    from torchinfo import summary\n",
        "\n",
        "# Try to import the going_modular directory, download it from GitHub if it doesn't work\n",
        "try:\n",
        "    from going_modular.going_modular import data_setup, engine\n",
        "    from helper_functions import download_data, set_seeds, plot_loss_curves\n",
        "except:\n",
        "    # Get the going_modular scripts\n",
        "    print(\"[INFO] Couldn't find going_modular or helper_functions scripts... downloading them from GitHub.\")\n",
        "    !git clone https://github.com/NANDAGOPALNG/pytorch--going_modular\n",
        "    !mv pytorch--going_modular/going_modular .\n",
        "    !mv pytorch--going_modular/helper_functions.py . # get the helper_functions.py script\n",
        "    !rm -rf pytorch--going_modular\n",
        "    from going_modular.going_modular import data_setup, engine\n",
        "    from helper_functions import download_data, set_seeds, plot_loss_curves"
      ],
      "metadata": {
        "colab": {
          "base_uri": "https://localhost:8080/"
        },
        "id": "2JcOaJ4nkbJ8",
        "outputId": "e690156f-aa9c-48c1-aae6-772fd083494d"
      },
      "execution_count": 2,
      "outputs": [
        {
          "output_type": "stream",
          "name": "stdout",
          "text": [
            "[INFO] Couldn't find torchinfo... installing it.\n",
            "[INFO] Couldn't find going_modular or helper_functions scripts... downloading them from GitHub.\n",
            "Cloning into 'pytorch--going_modular'...\n",
            "remote: Enumerating objects: 53, done.\u001b[K\n",
            "remote: Counting objects: 100% (53/53), done.\u001b[K\n",
            "remote: Compressing objects: 100% (43/43), done.\u001b[K\n",
            "remote: Total 53 (delta 15), reused 0 (delta 0), pack-reused 0 (from 0)\u001b[K\n",
            "Receiving objects: 100% (53/53), 17.77 MiB | 19.93 MiB/s, done.\n",
            "Resolving deltas: 100% (15/15), done.\n"
          ]
        }
      ]
    },
    {
      "cell_type": "code",
      "source": [
        "import torch.nn as nn\n",
        "import torch.nn.functional as F\n",
        "import torch.optim as optim\n",
        "from torch.utils.data import DataLoader\n",
        "from torchvision import datasets, transforms\n",
        "import numpy as np\n",
        "import random\n",
        "import matplotlib.pyplot as plt"
      ],
      "metadata": {
        "id": "oFj178kfc2na"
      },
      "execution_count": 3,
      "outputs": []
    },
    {
      "cell_type": "code",
      "source": [
        "device = \"cuda\" if torch.cuda.is_available() else \"cpu\"\n",
        "device"
      ],
      "metadata": {
        "id": "LxgBVOiMdQ8x",
        "colab": {
          "base_uri": "https://localhost:8080/",
          "height": 36
        },
        "outputId": "6eec299a-2a11-4368-b173-c0de0db73685"
      },
      "execution_count": 4,
      "outputs": [
        {
          "output_type": "execute_result",
          "data": {
            "text/plain": [
              "'cuda'"
            ],
            "application/vnd.google.colaboratory.intrinsic+json": {
              "type": "string"
            }
          },
          "metadata": {},
          "execution_count": 4
        }
      ]
    },
    {
      "cell_type": "markdown",
      "source": [
        "I have downloaded the dataset from -- https://www.cs.toronto.edu/%7Ekriz/cifar.html"
      ],
      "metadata": {
        "id": "SEZkMnpCd2Pc"
      }
    },
    {
      "cell_type": "code",
      "source": [
        "from torchvision import transforms\n",
        "\n",
        "# Enhanced data augmentation\n",
        "transform_train = transforms.Compose([\n",
        "    transforms.RandomCrop(32, padding=4),\n",
        "    transforms.RandomHorizontalFlip(),\n",
        "    transforms.RandomRotation(15),\n",
        "    transforms.ColorJitter(brightness=0.2, contrast=0.2, saturation=0.2, hue=0.1),\n",
        "    transforms.ToTensor(),\n",
        "    transforms.Normalize((0.4914, 0.4822, 0.4465), (0.2023, 0.1994, 0.2010)),\n",
        "])\n",
        "\n",
        "transform_test = transforms.Compose([\n",
        "    transforms.ToTensor(),\n",
        "    transforms.Normalize((0.4914, 0.4822, 0.4465), (0.2023, 0.1994, 0.2010)),\n",
        "])"
      ],
      "metadata": {
        "id": "1R4e_XWucn3v"
      },
      "execution_count": 5,
      "outputs": []
    },
    {
      "cell_type": "code",
      "source": [
        "train_dir = datasets.CIFAR10(root='./data', train=True, download=True, transform=transform_train)\n",
        "test_dir = datasets.CIFAR10(root='./data', train=False, download=True, transform=transform_test)"
      ],
      "metadata": {
        "colab": {
          "base_uri": "https://localhost:8080/"
        },
        "id": "sjnv0gGJcrOT",
        "outputId": "78618024-2253-4e07-f5df-6bd04ab0db55"
      },
      "execution_count": 6,
      "outputs": [
        {
          "output_type": "stream",
          "name": "stderr",
          "text": [
            "100%|██████████| 170M/170M [00:03<00:00, 43.1MB/s]\n"
          ]
        }
      ]
    },
    {
      "cell_type": "code",
      "source": [
        "# Set the batch size\n",
        "BATCH_SIZE = 128 # this is lower than the ViT paper but it's because we're starting small\n",
        "IMG_SIZE = 32\n",
        "\n",
        "# Create data loaders\n",
        "train_dataloader = DataLoader(train_dir,\n",
        "                              batch_size=BATCH_SIZE,\n",
        "                              shuffle=True)\n",
        "\n",
        "test_dataloader = DataLoader(test_dir,\n",
        "                             batch_size=BATCH_SIZE,\n",
        "                             shuffle=False)\n",
        "\n",
        "class_names = train_dir.classes\n",
        "\n",
        "train_dataloader, test_dataloader, class_names"
      ],
      "metadata": {
        "colab": {
          "base_uri": "https://localhost:8080/"
        },
        "id": "g8TH9t7Rp2lX",
        "outputId": "cb9f0a08-1a66-43f1-969a-c3a7806afe02"
      },
      "execution_count": 7,
      "outputs": [
        {
          "output_type": "execute_result",
          "data": {
            "text/plain": [
              "(<torch.utils.data.dataloader.DataLoader at 0x7f4cbe0f06e0>,\n",
              " <torch.utils.data.dataloader.DataLoader at 0x7f4cb33bb4a0>,\n",
              " ['airplane',\n",
              "  'automobile',\n",
              "  'bird',\n",
              "  'cat',\n",
              "  'deer',\n",
              "  'dog',\n",
              "  'frog',\n",
              "  'horse',\n",
              "  'ship',\n",
              "  'truck'])"
            ]
          },
          "metadata": {},
          "execution_count": 7
        }
      ]
    },
    {
      "cell_type": "code",
      "source": [
        "# Get a batch of images\n",
        "image_batch, label_batch = next(iter(train_dataloader))\n",
        "\n",
        "# Get a single image from the batch\n",
        "image, label = image_batch[0], label_batch[0]\n",
        "\n",
        "# View the batch shapes\n",
        "image.shape, label"
      ],
      "metadata": {
        "colab": {
          "base_uri": "https://localhost:8080/"
        },
        "id": "uPd3yIJGp6eK",
        "outputId": "ba31bc35-359b-4c43-fee0-57290c23b338"
      },
      "execution_count": 8,
      "outputs": [
        {
          "output_type": "execute_result",
          "data": {
            "text/plain": [
              "(torch.Size([3, 32, 32]), tensor(2))"
            ]
          },
          "metadata": {},
          "execution_count": 8
        }
      ]
    },
    {
      "cell_type": "code",
      "source": [
        "# Plot image with matplotlib\n",
        "plt.imshow(image.permute(1, 2, 0)) # rearrange image dimensions to suit matplotlib [color_channels, height, width] -> [height, width, color_channels]\n",
        "plt.title(class_names[label])\n",
        "plt.axis(False);"
      ],
      "metadata": {
        "colab": {
          "base_uri": "https://localhost:8080/",
          "height": 445
        },
        "id": "3nqBQDLNqCiu",
        "outputId": "3029dec5-6706-4f66-c610-4c14369e72e8"
      },
      "execution_count": 9,
      "outputs": [
        {
          "output_type": "stream",
          "name": "stderr",
          "text": [
            "WARNING:matplotlib.image:Clipping input data to the valid range for imshow with RGB data ([0..1] for floats or [0..255] for integers). Got range [-2.3127563..1.4364468].\n"
          ]
        },
        {
          "output_type": "display_data",
          "data": {
            "text/plain": [
              "<Figure size 640x480 with 1 Axes>"
            ],
            "image/png": "[encoded data removed]"
          },
          "metadata": {}
        }
      ]
    },
    {
      "cell_type": "markdown",
      "source": [
        "Replicating the ViT paper"
      ],
      "metadata": {
        "id": "Apv4dCkbqg03"
      }
    },
    {
      "cell_type": "markdown",
      "source": [
        "Let's start by going through Figure 1 of the ViT Paper.\n",
        "\n",
        "The main things we'll be paying attention to are:\n",
        "1. **Layers** - takes an **input**, performs an operation or function on the input, produces an **output**.\n",
        "2. **Blocks** - a collection of layers, which in turn also takes an **input** and produces an **output**.\n",
        "\n",
        "<img src=\"https://raw.githubusercontent.com/mrdbourke/pytorch-deep-learning/main/images/08-vit-paper-figure-1-inputs-and-outputs.png\" width=900 alt=\"figure 1 from the original vision transformer paper\"/>\n",
        "\n",
        "*Figure 1 from the ViT Paper showcasing the different inputs, outputs, layers and blocks that create the architecture. Our goal will be to replicate each of these using PyTorch code.*\n",
        "\n",
        "The ViT architecture is comprised of several stages:\n",
        "* **Patch + Position Embedding (inputs)** - Turns the input image into a sequence of image patches and adds a position number to specify in what order the patch comes in.\n",
        "* **Linear projection of flattened patches (Embedded Patches)** - The image patches get turned into an **embedding**, the benefit of using an embedding rather than just the image values is that an embedding is a *learnable* representation (typically in the form of a vector) of the image that can improve with training.\n",
        "* **Norm** - This is short for \"[Layer Normalization](https://paperswithcode.com/method/layer-normalization)\" or \"LayerNorm\", a technique for regularizing (reducing overfitting) a neural network, you can use LayerNorm via the PyTorch layer [`torch.nn.LayerNorm()`](https://pytorch.org/docs/stable/generated/torch.nn.LayerNorm.html).\n",
        "* **Multi-Head Attention** - This is a [Multi-Headed Self-Attention layer](https://paperswithcode.com/method/multi-head-attention) or \"MSA\" for short. You can create an MSA layer via the PyTorch layer [`torch.nn.MultiheadAttention()`](https://pytorch.org/docs/stable/generated/torch.nn.MultiheadAttention.html).\n",
        "* **MLP (or [Multilayer perceptron](https://en.wikipedia.org/wiki/Multilayer_perceptron))** - A MLP can often refer to any collection of feedforward layers (or in PyTorch's case, a collection of layers with a `forward()` method). In the ViT Paper, the authors refer to the MLP as \"MLP block\" and it contains two [`torch.nn.Linear()`](https://pytorch.org/docs/stable/generated/torch.nn.Linear.html) layers with a [`torch.nn.GELU()`](https://pytorch.org/docs/stable/generated/torch.nn.GELU.html) non-linearity activation in between them (section 3.1) and a [`torch.nn.Dropout()`](https://pytorch.org/docs/stable/generated/torch.nn.Dropout.html) layer after each (Appendix B.1).\n",
        "* **Transformer Encoder** - The Transformer Encoder, is a collection of the layers listed above. There are two skip connections inside the Transformer encoder (the \"+\" symbols) meaning the layer's inputs are fed directly to immediate layers as well as subsequent layers. The overall ViT architecture is comprised of a number of Transformer encoders stacked on top of eachother.\n",
        "* **MLP Head** - This is the output layer of the architecture, it converts the learned features of an input to a class output. Since we're working on image classification, you could also call this the \"classifier head\". The structure of the MLP Head is similar to the MLP block."
      ],
      "metadata": {
        "id": "plWMoBfQe29H"
      }
    },
    {
      "cell_type": "markdown",
      "source": [
        "####  Exploring the Four Equations\n",
        "\n",
        "The next main part(s) of the ViT paper we're going to look at are the four equations in section 3.1.\n",
        "\n",
        "<img src=\"https://raw.githubusercontent.com/mrdbourke/pytorch-deep-learning/main/images/08-vit-paper-four-equations.png\" width=650 alt=\"four mathematical equations from the vision transformer machine learning paper\"/>\n",
        "\n",
        "*These four equations represent the math behind the four major parts of the ViT architecture.*\n",
        "\n",
        "\n",
        "\n",
        "| **Equation number** | **Description from ViT paper section 3.1** |\n",
        "| ----- | ----- |\n",
        "| 1 | ...The Transformer uses constant latent vector size $D$ through all of its layers, so we flatten the patches and map to $D$ dimensions with a **trainable linear projection** (Eq. 1). We refer to the output of this projection as the **patch embeddings**... **Position embeddings** are added to the patch embeddings to retain positional information. We use standard **learnable 1D position embeddings**...|\n",
        "| 2 | The Transformer encoder (Vaswani et al., 2017) consists of alternating layers of multiheaded selfattention (MSA, see Appendix A) and MLP blocks (Eq. 2, 3). **Layernorm (LN) is applied before every block**, and **residual connections after every block** (Wang et al., 2019; Baevski & Auli, 2019). |\n",
        "| 3 | Same as equation 2. |\n",
        "| 4 | Similar to BERT's [ class ] token, we **prepend a learnable embedding to the sequence of embedded patches** $\\left(\\mathbf{z}_{0}^{0}=\\mathbf{x}_{\\text {class }}\\right)$, whose state at the output of the Transformer encoder $\\left(\\mathbf{z}_{L}^{0}\\right)$ serves as the image representation $\\mathbf{y}$ (Eq. 4)... |\n",
        "\n",
        "\n",
        "*Connecting Figure 1 from the ViT paper to the four equations from section 3.1 describing the math behind each of the layers/blocks.*\n",
        "\n",
        "There's a lot happening in the image above but following the coloured lines and arrows reveals the main concepts of the ViT architecture.\n",
        "\n",
        "How about we break down each equation further (it will be our goal to recreate these with code)?\n",
        "\n",
        "In all equations (except equation 4), \"$\\mathbf{z}$\" is the raw output of a particular layer:\n",
        "\n",
        "1. $\\mathbf{z}_{0}$ is \"z zero\" (this is the output of the initial patch embedding layer).\n",
        "2. $\\mathbf{z}_{\\ell}^{\\prime}$ is \"z of a particular layer *prime*\" (or an intermediary value of z).\n",
        "3. $\\mathbf{z}_{\\ell}$ is \"z of a particular layer\".\n",
        "\n",
        "And $\\mathbf{y}$ is the overall output of the architecture."
      ],
      "metadata": {
        "id": "Zu_DyjBCfTSq"
      }
    },
    {
      "cell_type": "markdown",
      "source": [
        "Calculating patch embedding input and output shapes by hand"
      ],
      "metadata": {
        "id": "-lvtltRsrfw5"
      }
    },
    {
      "cell_type": "code",
      "source": [
        "# Create example values\n",
        "height = 32 # H\n",
        "width = 32 # W\n",
        "color_channels = 3 # C\n",
        "patch_size = 4 # P\n",
        "\n",
        "# Calculate N (number of patches)\n",
        "number_of_patches = int((height * width) / patch_size**2)\n",
        "print(f\"Number of patches (N) with image height (H={height}), width (W={width}) and patch size (P={patch_size}): {number_of_patches}\")"
      ],
      "metadata": {
        "colab": {
          "base_uri": "https://localhost:8080/"
        },
        "id": "1DgdLud-qGEy",
        "outputId": "d0154b36-af9e-4233-c1d5-f810422540c5"
      },
      "execution_count": 10,
      "outputs": [
        {
          "output_type": "stream",
          "name": "stdout",
          "text": [
            "Number of patches (N) with image height (H=32), width (W=32) and patch size (P=4): 64\n"
          ]
        }
      ]
    },
    {
      "cell_type": "code",
      "source": [
        "# Input shape (this is the size of a single image)\n",
        "embedding_layer_input_shape = (height, width, color_channels)\n",
        "\n",
        "# Output shape\n",
        "embedding_layer_output_shape = (number_of_patches, patch_size**2 * color_channels)\n",
        "\n",
        "print(f\"Input shape (single 2D image): {embedding_layer_input_shape}\")\n",
        "print(f\"Output shape (single 2D image flattened into patches): {embedding_layer_output_shape}\")"
      ],
      "metadata": {
        "colab": {
          "base_uri": "https://localhost:8080/"
        },
        "id": "7D-F0ToZrew5",
        "outputId": "4898ca04-7e57-4372-c0cc-7a6b0be52fdc"
      },
      "execution_count": 11,
      "outputs": [
        {
          "output_type": "stream",
          "name": "stdout",
          "text": [
            "Input shape (single 2D image): (32, 32, 3)\n",
            "Output shape (single 2D image flattened into patches): (64, 48)\n"
          ]
        }
      ]
    },
    {
      "cell_type": "markdown",
      "source": [
        "Turning a single image into patches"
      ],
      "metadata": {
        "id": "4hJ1GITKs6es"
      }
    },
    {
      "cell_type": "code",
      "source": [
        "# View single image\n",
        "plt.imshow(image.permute(1, 2, 0)) # adjust for matplotlib\n",
        "plt.title(class_names[label])\n",
        "plt.axis(False);"
      ],
      "metadata": {
        "colab": {
          "base_uri": "https://localhost:8080/",
          "height": 445
        },
        "id": "fCmRBMPkrmvk",
        "outputId": "4ec994f6-9104-432c-f337-24e5d53f97b1"
      },
      "execution_count": 12,
      "outputs": [
        {
          "output_type": "stream",
          "name": "stderr",
          "text": [
            "WARNING:matplotlib.image:Clipping input data to the valid range for imshow with RGB data ([0..1] for floats or [0..255] for integers). Got range [-2.3127563..1.4364468].\n"
          ]
        },
        {
          "output_type": "display_data",
          "data": {
            "text/plain": [
              "<Figure size 640x480 with 1 Axes>"
            ],
            "image/png": "[encoded data removed]"
          },
          "metadata": {}
        }
      ]
    },
    {
      "cell_type": "code",
      "source": [
        "# Change image shape to be compatible with matplotlib (color_channels, height, width) -> (height, width, color_channels)\n",
        "image_permuted = image.permute(1, 2, 0)\n",
        "\n",
        "# Index to plot the top row of patched pixels\n",
        "patch_size = 4\n",
        "plt.figure(figsize=(patch_size, patch_size))\n",
        "plt.imshow(image_permuted[:patch_size, :, :]);"
      ],
      "metadata": {
        "colab": {
          "base_uri": "https://localhost:8080/",
          "height": 117
        },
        "id": "AgJCH090s9ek",
        "outputId": "cfc0bfdb-6534-4b36-e009-80a0d79d806c"
      },
      "execution_count": 13,
      "outputs": [
        {
          "output_type": "stream",
          "name": "stderr",
          "text": [
            "WARNING:matplotlib.image:Clipping input data to the valid range for imshow with RGB data ([0..1] for floats or [0..255] for integers). Got range [-2.3127563..1.3774462].\n"
          ]
        },
        {
          "output_type": "display_data",
          "data": {
            "text/plain": [
              "<Figure size 400x400 with 1 Axes>"
            ],
            "image/png": "[encoded data removed]"
          },
          "metadata": {}
        }
      ]
    },
    {
      "cell_type": "code",
      "source": [
        "# Setup hyperparameters and make sure img_size and patch_size are compatible\n",
        "img_size = 32\n",
        "patch_size = 4\n",
        "num_patches = img_size/patch_size\n",
        "assert img_size % patch_size == 0, \"Image size must be divisible by patch size\"\n",
        "print(f\"Number of patches per row: {num_patches}\\nPatch size: {patch_size} pixels x {patch_size} pixels\")\n",
        "\n",
        "# Create a series of subplots\n",
        "fig, axs = plt.subplots(nrows=1,\n",
        "                        ncols=img_size // patch_size, # one column for each patch\n",
        "                        figsize=(num_patches, num_patches),\n",
        "                        sharex=True,\n",
        "                        sharey=True)\n",
        "\n",
        "# Iterate through number of patches in the top row\n",
        "for i, patch in enumerate(range(0, img_size, patch_size)):\n",
        "    axs[i].imshow(image_permuted[:patch_size, patch:patch+patch_size, :]); # keep height index constant, alter the width index\n",
        "    axs[i].set_xlabel(i+1) # set the label\n",
        "    axs[i].set_xticks([])\n",
        "    axs[i].set_yticks([])"
      ],
      "metadata": {
        "colab": {
          "base_uri": "https://localhost:8080/",
          "height": 296
        },
        "id": "UNGc4q8mta1r",
        "outputId": "19129528-3a55-4ef4-ede8-cf9d9f330dc4"
      },
      "execution_count": 14,
      "outputs": [
        {
          "output_type": "stream",
          "name": "stderr",
          "text": [
            "WARNING:matplotlib.image:Clipping input data to the valid range for imshow with RGB data ([0..1] for floats or [0..255] for integers). Got range [-2.3127563..1.3774462].\n",
            "WARNING:matplotlib.image:Clipping input data to the valid range for imshow with RGB data ([0..1] for floats or [0..255] for integers). Got range [-2.3127563..1.2987788].\n",
            "WARNING:matplotlib.image:Clipping input data to the valid range for imshow with RGB data ([0..1] for floats or [0..255] for integers). Got range [-2.3127563..1.279112].\n",
            "WARNING:matplotlib.image:Clipping input data to the valid range for imshow with RGB data ([0..1] for floats or [0..255] for integers). Got range [-2.3127563..1.3184457].\n",
            "WARNING:matplotlib.image:Clipping input data to the valid range for imshow with RGB data ([0..1] for floats or [0..255] for integers). Got range [-2.3127563..1.2987788].\n",
            "WARNING:matplotlib.image:Clipping input data to the valid range for imshow with RGB data ([0..1] for floats or [0..255] for integers). Got range [-2.3127563..-2.1043313].\n",
            "WARNING:matplotlib.image:Clipping input data to the valid range for imshow with RGB data ([0..1] for floats or [0..255] for integers). Got range [-2.3127563..-2.1043313].\n",
            "WARNING:matplotlib.image:Clipping input data to the valid range for imshow with RGB data ([0..1] for floats or [0..255] for integers). Got range [-2.3127563..-2.1043313].\n"
          ]
        },
        {
          "output_type": "stream",
          "name": "stdout",
          "text": [
            "Number of patches per row: 8.0\n",
            "Patch size: 4 pixels x 4 pixels\n"
          ]
        },
        {
          "output_type": "display_data",
          "data": {
            "text/plain": [
              "<Figure size 800x800 with 8 Axes>"
            ],
            "image/png": "[encoded data removed]"
          },
          "metadata": {}
        }
      ]
    },
    {
      "cell_type": "code",
      "source": [
        "# Setup hyperparameters and make sure img_size and patch_size are compatible\n",
        "img_size = 32\n",
        "patch_size = 4\n",
        "num_patches = img_size/patch_size\n",
        "assert img_size % patch_size == 0, \"Image size must be divisible by patch size\"\n",
        "print(f\"Number of patches per row: {num_patches}\\\n",
        "        \\nNumber of patches per column: {num_patches}\\\n",
        "        \\nTotal patches: {num_patches*num_patches}\\\n",
        "        \\nPatch size: {patch_size} pixels x {patch_size} pixels\")\n",
        "\n",
        "# Create a series of subplots\n",
        "fig, axs = plt.subplots(nrows=img_size // patch_size, # need int not float\n",
        "                        ncols=img_size // patch_size,\n",
        "                        figsize=(num_patches, num_patches),\n",
        "                        sharex=True,\n",
        "                        sharey=True)\n",
        "\n",
        "# Loop through height and width of image\n",
        "for i, patch_height in enumerate(range(0, img_size, patch_size)): # iterate through height\n",
        "    for j, patch_width in enumerate(range(0, img_size, patch_size)): # iterate through width\n",
        "\n",
        "        # Plot the permuted image patch (image_permuted -> (Height, Width, Color Channels))\n",
        "        axs[i, j].imshow(image_permuted[patch_height:patch_height+patch_size, # iterate through height\n",
        "                                        patch_width:patch_width+patch_size, # iterate through width\n",
        "                                        :]) # get all color channels\n",
        "\n",
        "        # Set up label information, remove the ticks for clarity and set labels to outside\n",
        "        axs[i, j].set_ylabel(i+1,\n",
        "                             rotation=\"horizontal\",\n",
        "                             horizontalalignment=\"right\",\n",
        "                             verticalalignment=\"center\")\n",
        "        axs[i, j].set_xlabel(j+1)\n",
        "        axs[i, j].set_xticks([])\n",
        "        axs[i, j].set_yticks([])\n",
        "        axs[i, j].label_outer()\n",
        "\n",
        "# Set a super title\n",
        "fig.suptitle(f\"{class_names[label]} -> Patchified\", fontsize=16)\n",
        "plt.show()"
      ],
      "metadata": {
        "id": "xgjBD3STtigw",
        "colab": {
          "base_uri": "https://localhost:8080/",
          "height": 1000
        },
        "outputId": "20f7d660-bf52-45a2-d1b1-5f18a219b1df"
      },
      "execution_count": 15,
      "outputs": [
        {
          "output_type": "stream",
          "name": "stdout",
          "text": [
            "Number of patches per row: 8.0        \n",
            "Number of patches per column: 8.0        \n",
            "Total patches: 64.0        \n",
            "Patch size: 4 pixels x 4 pixels\n"
          ]
        },
        {
          "output_type": "stream",
          "name": "stderr",
          "text": [
            "WARNING:matplotlib.image:Clipping input data to the valid range for imshow with RGB data ([0..1] for floats or [0..255] for integers). Got range [-2.3127563..1.3774462].\n",
            "WARNING:matplotlib.image:Clipping input data to the valid range for imshow with RGB data ([0..1] for floats or [0..255] for integers). Got range [-2.3127563..1.2987788].\n",
            "WARNING:matplotlib.image:Clipping input data to the valid range for imshow with RGB data ([0..1] for floats or [0..255] for integers). Got range [-2.3127563..1.279112].\n",
            "WARNING:matplotlib.image:Clipping input data to the valid range for imshow with RGB data ([0..1] for floats or [0..255] for integers). Got range [-2.3127563..1.3184457].\n",
            "WARNING:matplotlib.image:Clipping input data to the valid range for imshow with RGB data ([0..1] for floats or [0..255] for integers). Got range [-2.3127563..1.2987788].\n",
            "WARNING:matplotlib.image:Clipping input data to the valid range for imshow with RGB data ([0..1] for floats or [0..255] for integers). Got range [-2.3127563..-2.1043313].\n",
            "WARNING:matplotlib.image:Clipping input data to the valid range for imshow with RGB data ([0..1] for floats or [0..255] for integers). Got range [-2.3127563..-2.1043313].\n",
            "WARNING:matplotlib.image:Clipping input data to the valid range for imshow with RGB data ([0..1] for floats or [0..255] for integers). Got range [-2.3127563..-2.1043313].\n",
            "WARNING:matplotlib.image:Clipping input data to the valid range for imshow with RGB data ([0..1] for floats or [0..255] for integers). Got range [-2.3127563..1.350993].\n",
            "WARNING:matplotlib.image:Clipping input data to the valid range for imshow with RGB data ([0..1] for floats or [0..255] for integers). Got range [0.4905376..1.3381125].\n",
            "WARNING:matplotlib.image:Clipping input data to the valid range for imshow with RGB data ([0..1] for floats or [0..255] for integers). Got range [-0.016730074..1.3184457].\n",
            "WARNING:matplotlib.image:Clipping input data to the valid range for imshow with RGB data ([0..1] for floats or [0..255] for integers). Got range [0.256414..1.370378].\n",
            "WARNING:matplotlib.image:Clipping input data to the valid range for imshow with RGB data ([0..1] for floats or [0..255] for integers). Got range [-0.81665194..1.3381125].\n",
            "WARNING:matplotlib.image:Clipping input data to the valid range for imshow with RGB data ([0..1] for floats or [0..255] for integers). Got range [-0.68007994..1.2987788].\n",
            "WARNING:matplotlib.image:Clipping input data to the valid range for imshow with RGB data ([0..1] for floats or [0..255] for integers). Got range [-2.3127563..0.276103].\n",
            "WARNING:matplotlib.image:Clipping input data to the valid range for imshow with RGB data ([0..1] for floats or [0..255] for integers). Got range [-2.3127563..1.2987788].\n",
            "WARNING:matplotlib.image:Clipping input data to the valid range for imshow with RGB data ([0..1] for floats or [0..255] for integers). Got range [-2.3127563..1.3971131].\n",
            "WARNING:matplotlib.image:Clipping input data to the valid range for imshow with RGB data ([0..1] for floats or [0..255] for integers). Got range [-0.66056967..1.3577794].\n",
            "WARNING:matplotlib.image:Clipping input data to the valid range for imshow with RGB data ([0..1] for floats or [0..255] for integers). Got range [-1.8702078..-0.038566656].\n",
            "WARNING:matplotlib.image:Clipping input data to the valid range for imshow with RGB data ([0..1] for floats or [0..255] for integers). Got range [-1.1678373..0.84644145].\n",
            "WARNING:matplotlib.image:Clipping input data to the valid range for imshow with RGB data ([0..1] for floats or [0..255] for integers). Got range [-0.8751828..0.276103].\n",
            "WARNING:matplotlib.image:Clipping input data to the valid range for imshow with RGB data ([0..1] for floats or [0..255] for integers). Got range [-0.99224466..0.22666796].\n",
            "WARNING:matplotlib.image:Clipping input data to the valid range for imshow with RGB data ([0..1] for floats or [0..255] for integers). Got range [-1.1678373..0.03281865].\n",
            "WARNING:matplotlib.image:Clipping input data to the valid range for imshow with RGB data ([0..1] for floats or [0..255] for integers). Got range [-1.5970637..-0.25795507].\n",
            "WARNING:matplotlib.image:Clipping input data to the valid range for imshow with RGB data ([0..1] for floats or [0..255] for integers). Got range [-2.3127563..1.3971131].\n",
            "WARNING:matplotlib.image:Clipping input data to the valid range for imshow with RGB data ([0..1] for floats or [0..255] for integers). Got range [-1.8506975..1.2594452].\n",
            "WARNING:matplotlib.image:Clipping input data to the valid range for imshow with RGB data ([0..1] for floats or [0..255] for integers). Got range [-1.9677593..1.2734534].\n",
            "WARNING:matplotlib.image:Clipping input data to the valid range for imshow with RGB data ([0..1] for floats or [0..255] for integers). Got range [-2.0642517..-0.2352351].\n",
            "WARNING:matplotlib.image:Clipping input data to the valid range for imshow with RGB data ([0..1] for floats or [0..255] for integers). Got range [-1.7336358..-0.33549476].\n",
            "WARNING:matplotlib.image:Clipping input data to the valid range for imshow with RGB data ([0..1] for floats or [0..255] for integers). Got range [-1.1873475..-0.10287576].\n",
            "WARNING:matplotlib.image:Clipping input data to the valid range for imshow with RGB data ([0..1] for floats or [0..255] for integers). Got range [-1.4800019..-0.29423562].\n",
            "WARNING:matplotlib.image:Clipping input data to the valid range for imshow with RGB data ([0..1] for floats or [0..255] for integers). Got range [-1.7889158..-0.8395026].\n",
            "WARNING:matplotlib.image:Clipping input data to the valid range for imshow with RGB data ([0..1] for floats or [0..255] for integers). Got range [-2.3127563..1.3971131].\n",
            "WARNING:matplotlib.image:Clipping input data to the valid range for imshow with RGB data ([0..1] for floats or [0..255] for integers). Got range [-0.23134327..1.3381125].\n",
            "WARNING:matplotlib.image:Clipping input data to the valid range for imshow with RGB data ([0..1] for floats or [0..255] for integers). Got range [0.2954347..1.370378].\n",
            "WARNING:matplotlib.image:Clipping input data to the valid range for imshow with RGB data ([0..1] for floats or [0..255] for integers). Got range [-2.099522..1.2594452].\n",
            "WARNING:matplotlib.image:Clipping input data to the valid range for imshow with RGB data ([0..1] for floats or [0..255] for integers). Got range [-2.0219827..0.013433732].\n",
            "WARNING:matplotlib.image:Clipping input data to the valid range for imshow with RGB data ([0..1] for floats or [0..255] for integers). Got range [-1.6555946..-0.45157036].\n",
            "WARNING:matplotlib.image:Clipping input data to the valid range for imshow with RGB data ([0..1] for floats or [0..255] for integers). Got range [-1.7336358..-1.0915065].\n",
            "WARNING:matplotlib.image:Clipping input data to the valid range for imshow with RGB data ([0..1] for floats or [0..255] for integers). Got range [-2.1189072..-1.5179747].\n",
            "WARNING:matplotlib.image:Clipping input data to the valid range for imshow with RGB data ([0..1] for floats or [0..255] for integers). Got range [0.39298618..1.3577794].\n",
            "WARNING:matplotlib.image:Clipping input data to the valid range for imshow with RGB data ([0..1] for floats or [0..255] for integers). Got range [0.5100479..1.3577794].\n",
            "WARNING:matplotlib.image:Clipping input data to the valid range for imshow with RGB data ([0..1] for floats or [0..255] for integers). Got range [0.45151705..1.3381125].\n",
            "WARNING:matplotlib.image:Clipping input data to the valid range for imshow with RGB data ([0..1] for floats or [0..255] for integers). Got range [0.41249645..1.3184457].\n",
            "WARNING:matplotlib.image:Clipping input data to the valid range for imshow with RGB data ([0..1] for floats or [0..255] for integers). Got range [-0.99224466..1.3381125].\n",
            "WARNING:matplotlib.image:Clipping input data to the valid range for imshow with RGB data ([0..1] for floats or [0..255] for integers). Got range [-2.0052512..1.0037762].\n",
            "WARNING:matplotlib.image:Clipping input data to the valid range for imshow with RGB data ([0..1] for floats or [0..255] for integers). Got range [-2.138292..1.0037762].\n",
            "WARNING:matplotlib.image:Clipping input data to the valid range for imshow with RGB data ([0..1] for floats or [0..255] for integers). Got range [-2.3127563..1.279112].\n",
            "WARNING:matplotlib.image:Clipping input data to the valid range for imshow with RGB data ([0..1] for floats or [0..255] for integers). Got range [0.5100479..1.2987788].\n",
            "WARNING:matplotlib.image:Clipping input data to the valid range for imshow with RGB data ([0..1] for floats or [0..255] for integers). Got range [0.4710273..1.279112].\n",
            "WARNING:matplotlib.image:Clipping input data to the valid range for imshow with RGB data ([0..1] for floats or [0..255] for integers). Got range [0.37347588..1.2987788].\n",
            "WARNING:matplotlib.image:Clipping input data to the valid range for imshow with RGB data ([0..1] for floats or [0..255] for integers). Got range [0.39298618..1.3577794].\n",
            "WARNING:matplotlib.image:Clipping input data to the valid range for imshow with RGB data ([0..1] for floats or [0..255] for integers). Got range [-1.1678373..1.3577794].\n",
            "WARNING:matplotlib.image:Clipping input data to the valid range for imshow with RGB data ([0..1] for floats or [0..255] for integers). Got range [-1.8311872..1.3897629].\n",
            "WARNING:matplotlib.image:Clipping input data to the valid range for imshow with RGB data ([0..1] for floats or [0..255] for integers). Got range [-1.3239197..1.3971131].\n",
            "WARNING:matplotlib.image:Clipping input data to the valid range for imshow with RGB data ([0..1] for floats or [0..255] for integers). Got range [-2.3127563..1.3184457].\n",
            "WARNING:matplotlib.image:Clipping input data to the valid range for imshow with RGB data ([0..1] for floats or [0..255] for integers). Got range [-2.3127563..1.279112].\n",
            "WARNING:matplotlib.image:Clipping input data to the valid range for imshow with RGB data ([0..1] for floats or [0..255] for integers). Got range [-2.3127563..1.279112].\n",
            "WARNING:matplotlib.image:Clipping input data to the valid range for imshow with RGB data ([0..1] for floats or [0..255] for integers). Got range [-2.3127563..1.2987788].\n",
            "WARNING:matplotlib.image:Clipping input data to the valid range for imshow with RGB data ([0..1] for floats or [0..255] for integers). Got range [-0.7386108..1.3971131].\n",
            "WARNING:matplotlib.image:Clipping input data to the valid range for imshow with RGB data ([0..1] for floats or [0..255] for integers). Got range [-0.99224466..1.4364468].\n",
            "WARNING:matplotlib.image:Clipping input data to the valid range for imshow with RGB data ([0..1] for floats or [0..255] for integers). Got range [-0.7776314..1.3971131].\n",
            "WARNING:matplotlib.image:Clipping input data to the valid range for imshow with RGB data ([0..1] for floats or [0..255] for integers). Got range [-0.66056967..1.3577794].\n",
            "WARNING:matplotlib.image:Clipping input data to the valid range for imshow with RGB data ([0..1] for floats or [0..255] for integers). Got range [-2.3127563..1.279112].\n"
          ]
        },
        {
          "output_type": "display_data",
          "data": {
            "text/plain": [
              "<Figure size 800x800 with 64 Axes>"
            ],
            "image/png": "[encoded data removed]"
          },
          "metadata": {}
        }
      ]
    },
    {
      "cell_type": "markdown",
      "source": [
        "Creating image patches with torch.nn.Conv2d()"
      ],
      "metadata": {
        "id": "MmHdAkmTt4A_"
      }
    },
    {
      "cell_type": "code",
      "source": [
        "from torch import nn\n",
        "\n",
        "# Set the patch size\n",
        "patch_size=4\n",
        "\n",
        "# Create the Conv2d layer with hyperparameters from the ViT paper\n",
        "conv2d = nn.Conv2d(in_channels=3, # number of color channels\n",
        "                   out_channels=256,\n",
        "                   kernel_size=patch_size, # could also use (patch_size, patch_size)\n",
        "                   stride=patch_size,\n",
        "                   padding=0)"
      ],
      "metadata": {
        "id": "bNAowOyztoh4"
      },
      "execution_count": 16,
      "outputs": []
    },
    {
      "cell_type": "code",
      "source": [
        "# View single image\n",
        "plt.imshow(image.permute(1, 2, 0)) # adjust for matplotlib\n",
        "plt.title(class_names[label])\n",
        "plt.axis(False);"
      ],
      "metadata": {
        "id": "0_pityv3uAh-",
        "colab": {
          "base_uri": "https://localhost:8080/",
          "height": 445
        },
        "outputId": "f796398b-b9ed-4f7b-fb1a-2e94b422fba6"
      },
      "execution_count": 17,
      "outputs": [
        {
          "output_type": "stream",
          "name": "stderr",
          "text": [
            "WARNING:matplotlib.image:Clipping input data to the valid range for imshow with RGB data ([0..1] for floats or [0..255] for integers). Got range [-2.3127563..1.4364468].\n"
          ]
        },
        {
          "output_type": "display_data",
          "data": {
            "text/plain": [
              "<Figure size 640x480 with 1 Axes>"
            ],
            "image/png": "[encoded data removed]"
          },
          "metadata": {}
        }
      ]
    },
    {
      "cell_type": "code",
      "source": [
        "# Pass the image through the convolutional layer\n",
        "image_out_of_conv = conv2d(image.unsqueeze(0)) # add a single batch dimension (height, width, color_channels) -> (batch, height, width, color_channels)\n",
        "print(image_out_of_conv.shape)"
      ],
      "metadata": {
        "id": "Tj4VgxtluDMZ",
        "colab": {
          "base_uri": "https://localhost:8080/"
        },
        "outputId": "ad6e9e85-c892-4482-ae39-c0dcc7747b29"
      },
      "execution_count": 18,
      "outputs": [
        {
          "output_type": "stream",
          "name": "stdout",
          "text": [
            "torch.Size([1, 256, 8, 8])\n"
          ]
        }
      ]
    },
    {
      "cell_type": "markdown",
      "source": [
        "torch.Size([1, 256, 8, 8]) -> [batch_size, embedding_dim, feature_map_height, feature_map_width]"
      ],
      "metadata": {
        "id": "GInG1VdDuOS4"
      }
    },
    {
      "cell_type": "code",
      "source": [
        "# Plot random 5 convolutional feature maps\n",
        "import random\n",
        "random_indexes = random.sample(range(0, 256), k=5) # pick 5 numbers between 0 and the embedding size\n",
        "print(f\"Showing random convolutional feature maps from indexes: {random_indexes}\")\n",
        "\n",
        "# Create plot\n",
        "fig, axs = plt.subplots(nrows=1, ncols=5, figsize=(12, 12))\n",
        "\n",
        "# Plot random image feature maps\n",
        "for i, idx in enumerate(random_indexes):\n",
        "    image_conv_feature_map = image_out_of_conv[:, idx, :, :] # index on the output tensor of the convolutional layer\n",
        "    axs[i].imshow(image_conv_feature_map.squeeze().detach().numpy())\n",
        "    axs[i].set(xticklabels=[], yticklabels=[], xticks=[], yticks=[]);"
      ],
      "metadata": {
        "id": "1kD74kJouGQc",
        "colab": {
          "base_uri": "https://localhost:8080/",
          "height": 214
        },
        "outputId": "81330c80-a8c5-4655-d53b-0ed8cf1e38e7"
      },
      "execution_count": 19,
      "outputs": [
        {
          "output_type": "stream",
          "name": "stdout",
          "text": [
            "Showing random convolutional feature maps from indexes: [199, 208, 178, 254, 27]\n"
          ]
        },
        {
          "output_type": "display_data",
          "data": {
            "text/plain": [
              "<Figure size 1200x1200 with 5 Axes>"
            ],
            "image/png": "[encoded data removed]"
          },
          "metadata": {}
        }
      ]
    },
    {
      "cell_type": "code",
      "source": [
        "# Get a single feature map in tensor form\n",
        "single_feature_map = image_out_of_conv[:, 0, :, :]\n",
        "single_feature_map, single_feature_map.requires_grad"
      ],
      "metadata": {
        "id": "NOd1BlAOuUVr",
        "colab": {
          "base_uri": "https://localhost:8080/"
        },
        "outputId": "5812b811-2da1-4d4c-a58d-b95cd26478be"
      },
      "execution_count": 20,
      "outputs": [
        {
          "output_type": "execute_result",
          "data": {
            "text/plain": [
              "(tensor([[[ 1.5073,  1.3538,  2.2951,  2.3861,  2.4939,  1.0852,  1.0852,\n",
              "            1.0852],\n",
              "          [ 1.3114, -0.0153, -0.3876,  0.0269, -0.4627, -0.1620,  0.6866,\n",
              "            0.9404],\n",
              "          [ 1.5317, -0.3553,  0.6873,  0.5250,  0.3578,  0.4207,  0.5423,\n",
              "            0.4543],\n",
              "          [ 1.3322,  0.4958,  1.8218,  0.4319,  0.6434,  0.5923,  0.4698,\n",
              "            0.6093],\n",
              "          [ 0.7963,  0.1672, -0.0449,  0.9976,  1.0759,  0.5612,  0.7002,\n",
              "            0.6727],\n",
              "          [ 0.0102, -0.0398,  0.0260,  0.0769,  0.1780,  1.0184,  1.0262,\n",
              "            1.9150],\n",
              "          [-0.0269,  0.0132,  0.0558,  0.0379, -0.2125,  1.4918, -0.0198,\n",
              "           -0.3097],\n",
              "          [-1.2016, -1.2991, -1.2949, -0.2323,  0.6060, -0.4433,  0.1490,\n",
              "           -0.4307]]], grad_fn=<SliceBackward0>),\n",
              " True)"
            ]
          },
          "metadata": {},
          "execution_count": 20
        }
      ]
    },
    {
      "cell_type": "markdown",
      "source": [
        "Flattening the patch embedding with torch.nn.Flatten()"
      ],
      "metadata": {
        "id": "z1oOr5pjukp-"
      }
    },
    {
      "cell_type": "code",
      "source": [
        "# Current tensor shape\n",
        "print(f\"Current tensor shape: {image_out_of_conv.shape} -> [batch, embedding_dim, feature_map_height, feature_map_width]\")"
      ],
      "metadata": {
        "id": "5pzWHyEduhNK",
        "colab": {
          "base_uri": "https://localhost:8080/"
        },
        "outputId": "0ec89d37-cd0b-4e9b-e864-6fe8f284cf26"
      },
      "execution_count": 21,
      "outputs": [
        {
          "output_type": "stream",
          "name": "stdout",
          "text": [
            "Current tensor shape: torch.Size([1, 256, 8, 8]) -> [batch, embedding_dim, feature_map_height, feature_map_width]\n"
          ]
        }
      ]
    },
    {
      "cell_type": "code",
      "source": [
        "# Create flatten layer\n",
        "flatten = nn.Flatten(start_dim=2, # flatten feature_map_height (dimension 2)\n",
        "                     end_dim=3) # flatten feature_map_width (dimension 3)"
      ],
      "metadata": {
        "id": "p0WLvzzauv3M"
      },
      "execution_count": 22,
      "outputs": []
    },
    {
      "cell_type": "code",
      "source": [
        "# 1. View single image\n",
        "plt.imshow(image.permute(1, 2, 0)) # adjust for matplotlib\n",
        "plt.title(class_names[label])\n",
        "plt.axis(False);\n",
        "print(f\"Original image shape: {image.shape}\")\n",
        "\n",
        "# 2. Turn image into feature maps\n",
        "image_out_of_conv = conv2d(image.unsqueeze(0)) # add batch dimension to avoid shape errors\n",
        "print(f\"Image feature map shape: {image_out_of_conv.shape}\")\n",
        "\n",
        "# 3. Flatten the feature maps\n",
        "image_out_of_conv_flattened = flatten(image_out_of_conv)\n",
        "print(f\"Flattened image feature map shape: {image_out_of_conv_flattened.shape}\")"
      ],
      "metadata": {
        "id": "lbEMDgLuuzzJ",
        "colab": {
          "base_uri": "https://localhost:8080/",
          "height": 497
        },
        "outputId": "fca56ca5-4fc9-4c99-859d-962dd5b327c5"
      },
      "execution_count": 23,
      "outputs": [
        {
          "output_type": "stream",
          "name": "stderr",
          "text": [
            "WARNING:matplotlib.image:Clipping input data to the valid range for imshow with RGB data ([0..1] for floats or [0..255] for integers). Got range [-2.3127563..1.4364468].\n"
          ]
        },
        {
          "output_type": "stream",
          "name": "stdout",
          "text": [
            "Original image shape: torch.Size([3, 32, 32])\n",
            "Image feature map shape: torch.Size([1, 256, 8, 8])\n",
            "Flattened image feature map shape: torch.Size([1, 256, 64])\n"
          ]
        },
        {
          "output_type": "display_data",
          "data": {
            "text/plain": [
              "<Figure size 640x480 with 1 Axes>"
            ],
            "image/png": "[encoded data removed]"
          },
          "metadata": {}
        }
      ]
    },
    {
      "cell_type": "code",
      "source": [
        "# Get flattened image patch embeddings in right shape\n",
        "image_out_of_conv_flattened_reshaped = image_out_of_conv_flattened.permute(0, 2, 1) # [batch_size, P^2•C, N] -> [batch_size, N, P^2•C]\n",
        "print(f\"Patch embedding sequence shape: {image_out_of_conv_flattened_reshaped.shape} -> [batch_size, num_patches, embedding_size]\")"
      ],
      "metadata": {
        "id": "LiOYYH3Ru4Kx",
        "colab": {
          "base_uri": "https://localhost:8080/"
        },
        "outputId": "cf5b973e-7eb9-43f9-e2d7-c6141eecc78d"
      },
      "execution_count": 24,
      "outputs": [
        {
          "output_type": "stream",
          "name": "stdout",
          "text": [
            "Patch embedding sequence shape: torch.Size([1, 64, 256]) -> [batch_size, num_patches, embedding_size]\n"
          ]
        }
      ]
    },
    {
      "cell_type": "code",
      "source": [
        "# Get a single flattened feature map\n",
        "single_flattened_feature_map = image_out_of_conv_flattened_reshaped[:, :, 0] # index: (batch_size, number_of_patches, embedding_dimension)\n",
        "\n",
        "# Plot the flattened feature map visually\n",
        "plt.figure(figsize=(22, 22))\n",
        "plt.imshow(single_flattened_feature_map.detach().numpy())\n",
        "plt.title(f\"Flattened feature map shape: {single_flattened_feature_map.shape}\")\n",
        "plt.axis(False);"
      ],
      "metadata": {
        "id": "CGi3bw7Ku-AH",
        "colab": {
          "base_uri": "https://localhost:8080/",
          "height": 71
        },
        "outputId": "ac4e729f-1fde-42a0-cce6-d2fde5a2ab8b"
      },
      "execution_count": 25,
      "outputs": [
        {
          "output_type": "display_data",
          "data": {
            "text/plain": [
              "<Figure size 2200x2200 with 1 Axes>"
            ],
            "image/png": "[encoded data removed]"
          },
          "metadata": {}
        }
      ]
    },
    {
      "cell_type": "code",
      "source": [
        "# See the flattened feature map as a tensor\n",
        "single_flattened_feature_map, single_flattened_feature_map.requires_grad, single_flattened_feature_map.shape"
      ],
      "metadata": {
        "id": "9-Nx2ZhMvBK4",
        "colab": {
          "base_uri": "https://localhost:8080/"
        },
        "outputId": "e13f8605-20b5-4673-9b39-d91cdac3537c"
      },
      "execution_count": 26,
      "outputs": [
        {
          "output_type": "execute_result",
          "data": {
            "text/plain": [
              "(tensor([[ 1.5073,  1.3538,  2.2951,  2.3861,  2.4939,  1.0852,  1.0852,  1.0852,\n",
              "           1.3114, -0.0153, -0.3876,  0.0269, -0.4627, -0.1620,  0.6866,  0.9404,\n",
              "           1.5317, -0.3553,  0.6873,  0.5250,  0.3578,  0.4207,  0.5423,  0.4543,\n",
              "           1.3322,  0.4958,  1.8218,  0.4319,  0.6434,  0.5923,  0.4698,  0.6093,\n",
              "           0.7963,  0.1672, -0.0449,  0.9976,  1.0759,  0.5612,  0.7002,  0.6727,\n",
              "           0.0102, -0.0398,  0.0260,  0.0769,  0.1780,  1.0184,  1.0262,  1.9150,\n",
              "          -0.0269,  0.0132,  0.0558,  0.0379, -0.2125,  1.4918, -0.0198, -0.3097,\n",
              "          -1.2016, -1.2991, -1.2949, -0.2323,  0.6060, -0.4433,  0.1490, -0.4307]],\n",
              "        grad_fn=<SelectBackward0>),\n",
              " True,\n",
              " torch.Size([1, 64]))"
            ]
          },
          "metadata": {},
          "execution_count": 26
        }
      ]
    },
    {
      "cell_type": "markdown",
      "source": [
        "Turning the ViT patch embedding layer into a PyTorch module"
      ],
      "metadata": {
        "id": "UeeAF5LlvNEF"
      }
    },
    {
      "cell_type": "code",
      "source": [
        "# 1. Create a class which subclasses nn.Module\n",
        "class PatchEmbedding(nn.Module):\n",
        "    \"\"\"Turns a 2D input image into a 1D sequence learnable embedding vector.\n",
        "\n",
        "    Args:\n",
        "        in_channels (int): Number of color channels for the input images. Defaults to 3.\n",
        "        patch_size (int): Size of patches to convert input image into. Defaults to 16.\n",
        "        embedding_dim (int): Size of embedding to turn image into. Defaults to 768.\n",
        "    \"\"\"\n",
        "    # 2. Initialize the class with appropriate variables\n",
        "    def __init__(self,\n",
        "                 in_channels:int=3,\n",
        "                 patch_size:int=4,\n",
        "                 embedding_dim:int=256):\n",
        "        super().__init__()\n",
        "\n",
        "        # 3. Create a layer to turn an image into patches\n",
        "        self.patcher = nn.Conv2d(in_channels=in_channels,\n",
        "                                 out_channels=embedding_dim,\n",
        "                                 kernel_size=patch_size,\n",
        "                                 stride=patch_size,\n",
        "                                 padding=0)\n",
        "\n",
        "        # 4. Create a layer to flatten the patch feature maps into a single dimension\n",
        "        self.flatten = nn.Flatten(start_dim=2, # only flatten the feature map dimensions into a single vector\n",
        "                                  end_dim=3)\n",
        "\n",
        "    # 5. Define the forward method\n",
        "    def forward(self, x):\n",
        "        # Create assertion to check that inputs are the correct shape\n",
        "        image_resolution = x.shape[-1]\n",
        "        assert image_resolution % patch_size == 0, f\"Input image size must be divisible by patch size, image shape: {image_resolution}, patch size: {patch_size}\"\n",
        "\n",
        "        # Perform the forward pass\n",
        "        x_patched = self.patcher(x)\n",
        "        x_flattened = self.flatten(x_patched)\n",
        "        # 6. Make sure the output shape has the right order\n",
        "        return x_flattened.permute(0, 2, 1) # adjust so the embedding is on the final dimension [batch_size, P^2•C, N] -> [batch_size, N, P^2•C]"
      ],
      "metadata": {
        "id": "uuxZhreLvFzv"
      },
      "execution_count": 27,
      "outputs": []
    },
    {
      "cell_type": "code",
      "source": [
        "set_seeds()\n",
        "\n",
        "# Create an instance of patch embedding layer\n",
        "patchify = PatchEmbedding(in_channels=3,\n",
        "                          patch_size=4,\n",
        "                          embedding_dim=256)\n",
        "\n",
        "# Pass a single image through\n",
        "print(f\"Input image shape: {image.unsqueeze(0).shape}\")\n",
        "patch_embedded_image = patchify(image.unsqueeze(0)) # add an extra batch dimension on the 0th index, otherwise will error\n",
        "print(f\"Output patch embedding shape: {patch_embedded_image.shape}\")"
      ],
      "metadata": {
        "id": "qE39vRsdvRdI",
        "colab": {
          "base_uri": "https://localhost:8080/"
        },
        "outputId": "5c48b0d0-1447-44b4-ac7a-4774ddf9e52a"
      },
      "execution_count": 28,
      "outputs": [
        {
          "output_type": "stream",
          "name": "stdout",
          "text": [
            "Input image shape: torch.Size([1, 3, 32, 32])\n",
            "Output patch embedding shape: torch.Size([1, 64, 256])\n"
          ]
        }
      ]
    },
    {
      "cell_type": "code",
      "source": [
        "# View the patch embedding and patch embedding shape\n",
        "print(patch_embedded_image)\n",
        "print(f\"Patch embedding shape: {patch_embedded_image.shape} -> [batch_size, number_of_patches, embedding_dimension]\")"
      ],
      "metadata": {
        "id": "hzFY1UVsvdwP",
        "colab": {
          "base_uri": "https://localhost:8080/"
        },
        "outputId": "1eae973e-400d-4e6b-9b00-9bb521a4543f"
      },
      "execution_count": 29,
      "outputs": [
        {
          "output_type": "stream",
          "name": "stdout",
          "text": [
            "tensor([[[-1.8132,  0.0812,  1.7669,  ...,  0.9012, -0.1780, -0.0945],\n",
            "         [-1.3104,  0.7115, -1.6923,  ..., -0.5005, -0.0353, -0.6663],\n",
            "         [-1.4749,  0.2351,  0.0861,  ...,  0.8336, -1.8441,  0.9895],\n",
            "         ...,\n",
            "         [ 0.5487, -0.3081, -1.6749,  ..., -0.7375,  0.8463, -0.6234],\n",
            "         [ 0.7071, -0.0122, -0.9877,  ..., -0.4279,  0.1525, -0.7707],\n",
            "         [-0.8118,  0.1223,  0.7920,  ...,  0.7446, -0.4360, -0.0026]]],\n",
            "       grad_fn=<PermuteBackward0>)\n",
            "Patch embedding shape: torch.Size([1, 64, 256]) -> [batch_size, number_of_patches, embedding_dimension]\n"
          ]
        }
      ]
    },
    {
      "cell_type": "code",
      "source": [
        "# Get the batch size and embedding dimension\n",
        "batch_size = patch_embedded_image.shape[0]\n",
        "embedding_dimension = patch_embedded_image.shape[-1]\n",
        "\n",
        "# Create the class token embedding as a learnable parameter that shares the same size as the embedding dimension (D)\n",
        "class_token = nn.Parameter(torch.ones(batch_size, 1, embedding_dimension), # [batch_size, number_of_tokens, embedding_dimension]\n",
        "                           requires_grad=True) # make sure the embedding is learnable\n",
        "\n",
        "# Show the first 10 examples of the class_token\n",
        "print(class_token[:, :, :10])\n",
        "\n",
        "# Print the class_token shape\n",
        "print(f\"Class token shape: {class_token.shape} -> [batch_size, number_of_tokens, embedding_dimension]\")"
      ],
      "metadata": {
        "id": "P3aFhcYwvhLa",
        "colab": {
          "base_uri": "https://localhost:8080/"
        },
        "outputId": "96dab9e5-0c52-412a-f0a2-a115e3fc0235"
      },
      "execution_count": 30,
      "outputs": [
        {
          "output_type": "stream",
          "name": "stdout",
          "text": [
            "tensor([[[1., 1., 1., 1., 1., 1., 1., 1., 1., 1.]]], grad_fn=<SliceBackward0>)\n",
            "Class token shape: torch.Size([1, 1, 256]) -> [batch_size, number_of_tokens, embedding_dimension]\n"
          ]
        }
      ]
    },
    {
      "cell_type": "code",
      "source": [
        "# Add the class token embedding to the front of the patch embedding\n",
        "patch_embedded_image_with_class_embedding = torch.cat((class_token, patch_embedded_image),\n",
        "                                                      dim=1) # concat on first dimension\n",
        "\n",
        "# Print the sequence of patch embeddings with the prepended class token embedding\n",
        "print(patch_embedded_image_with_class_embedding)\n",
        "print(f\"Sequence of patch embeddings with class token prepended shape: {patch_embedded_image_with_class_embedding.shape} -> [batch_size, number_of_patches, embedding_dimension]\")"
      ],
      "metadata": {
        "id": "5iHwgZvjvl2X",
        "colab": {
          "base_uri": "https://localhost:8080/"
        },
        "outputId": "9825d80e-b6e8-41aa-8696-b45ec3eaabc7"
      },
      "execution_count": 31,
      "outputs": [
        {
          "output_type": "stream",
          "name": "stdout",
          "text": [
            "tensor([[[ 1.0000,  1.0000,  1.0000,  ...,  1.0000,  1.0000,  1.0000],\n",
            "         [-1.8132,  0.0812,  1.7669,  ...,  0.9012, -0.1780, -0.0945],\n",
            "         [-1.3104,  0.7115, -1.6923,  ..., -0.5005, -0.0353, -0.6663],\n",
            "         ...,\n",
            "         [ 0.5487, -0.3081, -1.6749,  ..., -0.7375,  0.8463, -0.6234],\n",
            "         [ 0.7071, -0.0122, -0.9877,  ..., -0.4279,  0.1525, -0.7707],\n",
            "         [-0.8118,  0.1223,  0.7920,  ...,  0.7446, -0.4360, -0.0026]]],\n",
            "       grad_fn=<CatBackward0>)\n",
            "Sequence of patch embeddings with class token prepended shape: torch.Size([1, 65, 256]) -> [batch_size, number_of_patches, embedding_dimension]\n"
          ]
        }
      ]
    },
    {
      "cell_type": "markdown",
      "source": [
        "Creating the position embedding"
      ],
      "metadata": {
        "id": "HWtf6K0ywSZC"
      }
    },
    {
      "cell_type": "code",
      "source": [
        "# View the sequence of patch embeddings with the prepended class embedding\n",
        "patch_embedded_image_with_class_embedding, patch_embedded_image_with_class_embedding.shape"
      ],
      "metadata": {
        "id": "ITM75VNovzT-",
        "colab": {
          "base_uri": "https://localhost:8080/"
        },
        "outputId": "d5724712-dbcc-4b6a-f91f-1cf0649bb53a"
      },
      "execution_count": 32,
      "outputs": [
        {
          "output_type": "execute_result",
          "data": {
            "text/plain": [
              "(tensor([[[ 1.0000,  1.0000,  1.0000,  ...,  1.0000,  1.0000,  1.0000],\n",
              "          [-1.8132,  0.0812,  1.7669,  ...,  0.9012, -0.1780, -0.0945],\n",
              "          [-1.3104,  0.7115, -1.6923,  ..., -0.5005, -0.0353, -0.6663],\n",
              "          ...,\n",
              "          [ 0.5487, -0.3081, -1.6749,  ..., -0.7375,  0.8463, -0.6234],\n",
              "          [ 0.7071, -0.0122, -0.9877,  ..., -0.4279,  0.1525, -0.7707],\n",
              "          [-0.8118,  0.1223,  0.7920,  ...,  0.7446, -0.4360, -0.0026]]],\n",
              "        grad_fn=<CatBackward0>),\n",
              " torch.Size([1, 65, 256]))"
            ]
          },
          "metadata": {},
          "execution_count": 32
        }
      ]
    },
    {
      "cell_type": "code",
      "source": [
        "# Calculate N (number of patches)\n",
        "number_of_patches = int((height * width) / patch_size**2)\n",
        "\n",
        "# Get embedding dimension\n",
        "embedding_dimension = patch_embedded_image_with_class_embedding.shape[2]\n",
        "\n",
        "# Create the learnable 1D position embedding\n",
        "position_embedding = nn.Parameter(torch.ones(1,\n",
        "                                             number_of_patches+1,\n",
        "                                             embedding_dimension),\n",
        "                                  requires_grad=True) # make sure it's learnable\n",
        "\n",
        "# Show the first 10 sequences and 10 position embedding values and check the shape of the position embedding\n",
        "print(position_embedding[:, :10, :10])\n",
        "print(f\"Position embedding shape: {position_embedding.shape} -> [batch_size, number_of_patches, embedding_dimension]\")"
      ],
      "metadata": {
        "id": "heeJ7pVGwflc",
        "colab": {
          "base_uri": "https://localhost:8080/"
        },
        "outputId": "31941590-8b0f-4e16-f9b4-554eaf8c9fcc"
      },
      "execution_count": 33,
      "outputs": [
        {
          "output_type": "stream",
          "name": "stdout",
          "text": [
            "tensor([[[1., 1., 1., 1., 1., 1., 1., 1., 1., 1.],\n",
            "         [1., 1., 1., 1., 1., 1., 1., 1., 1., 1.],\n",
            "         [1., 1., 1., 1., 1., 1., 1., 1., 1., 1.],\n",
            "         [1., 1., 1., 1., 1., 1., 1., 1., 1., 1.],\n",
            "         [1., 1., 1., 1., 1., 1., 1., 1., 1., 1.],\n",
            "         [1., 1., 1., 1., 1., 1., 1., 1., 1., 1.],\n",
            "         [1., 1., 1., 1., 1., 1., 1., 1., 1., 1.],\n",
            "         [1., 1., 1., 1., 1., 1., 1., 1., 1., 1.],\n",
            "         [1., 1., 1., 1., 1., 1., 1., 1., 1., 1.],\n",
            "         [1., 1., 1., 1., 1., 1., 1., 1., 1., 1.]]], grad_fn=<SliceBackward0>)\n",
            "Position embedding shape: torch.Size([1, 65, 256]) -> [batch_size, number_of_patches, embedding_dimension]\n"
          ]
        }
      ]
    },
    {
      "cell_type": "code",
      "source": [
        "# Add the position embedding to the patch and class token embedding\n",
        "patch_and_position_embedding = patch_embedded_image_with_class_embedding + position_embedding\n",
        "print(patch_and_position_embedding)\n",
        "print(f\"Patch embeddings, class token prepended and positional embeddings added shape: {patch_and_position_embedding.shape} -> [batch_size, number_of_patches, embedding_dimension]\")"
      ],
      "metadata": {
        "id": "dM4zZUxGwnyF",
        "colab": {
          "base_uri": "https://localhost:8080/"
        },
        "outputId": "ff57733d-e1a8-4c34-eb56-5cb8811eed46"
      },
      "execution_count": 34,
      "outputs": [
        {
          "output_type": "stream",
          "name": "stdout",
          "text": [
            "tensor([[[ 2.0000,  2.0000,  2.0000,  ...,  2.0000,  2.0000,  2.0000],\n",
            "         [-0.8132,  1.0812,  2.7669,  ...,  1.9012,  0.8220,  0.9055],\n",
            "         [-0.3104,  1.7115, -0.6923,  ...,  0.4995,  0.9647,  0.3337],\n",
            "         ...,\n",
            "         [ 1.5487,  0.6919, -0.6749,  ...,  0.2625,  1.8463,  0.3766],\n",
            "         [ 1.7071,  0.9878,  0.0123,  ...,  0.5721,  1.1525,  0.2293],\n",
            "         [ 0.1882,  1.1223,  1.7920,  ...,  1.7446,  0.5640,  0.9974]]],\n",
            "       grad_fn=<AddBackward0>)\n",
            "Patch embeddings, class token prepended and positional embeddings added shape: torch.Size([1, 65, 256]) -> [batch_size, number_of_patches, embedding_dimension]\n"
          ]
        }
      ]
    },
    {
      "cell_type": "markdown",
      "source": [
        "Putting it all together: from image to embedding"
      ],
      "metadata": {
        "id": "zF8cCbm7w-Mz"
      }
    },
    {
      "cell_type": "code",
      "source": [
        "set_seeds()\n",
        "\n",
        "# 1. Set patch size\n",
        "patch_size = 4\n",
        "\n",
        "# 2. Print shape of original image tensor and get the image dimensions\n",
        "print(f\"Image tensor shape: {image.shape}\")\n",
        "height, width = image.shape[1], image.shape[2]\n",
        "\n",
        "# 3. Get image tensor and add batch dimension\n",
        "x = image.unsqueeze(0)\n",
        "print(f\"Input image with batch dimension shape: {x.shape}\")\n",
        "\n",
        "# 4. Create patch embedding layer\n",
        "patch_embedding_layer = PatchEmbedding(in_channels=3,\n",
        "                                       patch_size=patch_size,\n",
        "                                       embedding_dim=256)\n",
        "\n",
        "# 5. Pass image through patch embedding layer\n",
        "patch_embedding = patch_embedding_layer(x)\n",
        "print(f\"Patching embedding shape: {patch_embedding.shape}\")\n",
        "\n",
        "# 6. Create class token embedding\n",
        "batch_size = patch_embedding.shape[0]\n",
        "embedding_dimension = patch_embedding.shape[-1]\n",
        "class_token = nn.Parameter(torch.ones(batch_size, 1, embedding_dimension),\n",
        "                           requires_grad=True) # make sure it's learnable\n",
        "print(f\"Class token embedding shape: {class_token.shape}\")\n",
        "\n",
        "# 7. Prepend class token embedding to patch embedding\n",
        "patch_embedding_class_token = torch.cat((class_token, patch_embedding), dim=1)\n",
        "print(f\"Patch embedding with class token shape: {patch_embedding_class_token.shape}\")\n",
        "\n",
        "# 8. Create position embedding\n",
        "number_of_patches = int((height * width) / patch_size**2)\n",
        "position_embedding = nn.Parameter(torch.ones(1, number_of_patches+1, embedding_dimension),\n",
        "                                  requires_grad=True) # make sure it's learnable\n",
        "\n",
        "# 9. Add position embedding to patch embedding with class token\n",
        "patch_and_position_embedding = patch_embedding_class_token + position_embedding\n",
        "print(f\"Patch and position embedding shape: {patch_and_position_embedding.shape}\")"
      ],
      "metadata": {
        "id": "bTmMqYXGw1oD",
        "colab": {
          "base_uri": "https://localhost:8080/"
        },
        "outputId": "07459e00-aa17-4a33-ccea-3c6f5a0f7cf9"
      },
      "execution_count": 35,
      "outputs": [
        {
          "output_type": "stream",
          "name": "stdout",
          "text": [
            "Image tensor shape: torch.Size([3, 32, 32])\n",
            "Input image with batch dimension shape: torch.Size([1, 3, 32, 32])\n",
            "Patching embedding shape: torch.Size([1, 64, 256])\n",
            "Class token embedding shape: torch.Size([1, 1, 256])\n",
            "Patch embedding with class token shape: torch.Size([1, 65, 256])\n",
            "Patch and position embedding shape: torch.Size([1, 65, 256])\n"
          ]
        }
      ]
    },
    {
      "cell_type": "markdown",
      "source": [
        "Equation 2: Multi-Head Attention (MSA)"
      ],
      "metadata": {
        "id": "nTfl_2DG1DpL"
      }
    },
    {
      "cell_type": "markdown",
      "source": [
        "The LayerNorm (LN) layer"
      ],
      "metadata": {
        "id": "7bmqbgNA1IvV"
      }
    },
    {
      "cell_type": "markdown",
      "source": [
        "The Multi-Head Self Attention (MSA) layer"
      ],
      "metadata": {
        "id": "72YR6tYU1ML5"
      }
    },
    {
      "cell_type": "markdown",
      "source": [
        "Replicating Equation 2 with PyTorch layers"
      ],
      "metadata": {
        "id": "PuFtYKfo1P90"
      }
    },
    {
      "cell_type": "code",
      "source": [
        "# 1. Create a class that inherits from nn.Module\n",
        "class MultiheadSelfAttentionBlock(nn.Module):\n",
        "    \"\"\"Creates a multi-head self-attention block (\"MSA block\" for short).\n",
        "    \"\"\"\n",
        "    # 2. Initialize the class with hyperparameters from Table 1\n",
        "    def __init__(self,\n",
        "                 embedding_dim:int=256, # Hidden size D from Table 1 for ViT-Base\n",
        "                 num_heads:int=8, # Heads from Table 1 for ViT-Base\n",
        "                 attn_dropout:float=0.1): # doesn't look like the paper uses any dropout in MSABlocks\n",
        "        super().__init__()\n",
        "\n",
        "        # 3. Create the Norm layer (LN)\n",
        "        self.layer_norm = nn.LayerNorm(normalized_shape=embedding_dim)\n",
        "\n",
        "        # 4. Create the Multi-Head Attention (MSA) layer\n",
        "        self.multihead_attn = nn.MultiheadAttention(embed_dim=embedding_dim,\n",
        "                                                    num_heads=num_heads,\n",
        "                                                    dropout=attn_dropout,\n",
        "                                                    batch_first=True) # does our batch dimension come first?\n",
        "\n",
        "    # 5. Create a forward() method to pass the data through the layers\n",
        "    def forward(self, x):\n",
        "        x = self.layer_norm(x)\n",
        "        attn_output, _ = self.multihead_attn(query=x, # query embeddings\n",
        "                                             key=x, # key embeddings\n",
        "                                             value=x, # value embeddings\n",
        "                                             need_weights=False) # do we need the weights or just the layer outputs?\n",
        "        return attn_output"
      ],
      "metadata": {
        "id": "u6eZCJYRzPHB"
      },
      "execution_count": 36,
      "outputs": []
    },
    {
      "cell_type": "code",
      "source": [
        "# Create an instance of MSABlock\n",
        "multihead_self_attention_block = MultiheadSelfAttentionBlock(embedding_dim=256, # from Table 1\n",
        "                                                             num_heads=8) # from Table 1\n",
        "\n",
        "# Pass patch and position image embedding through MSABlock\n",
        "patched_image_through_msa_block = multihead_self_attention_block(patch_and_position_embedding)\n",
        "print(f\"Input shape of MSA block: {patch_and_position_embedding.shape}\")\n",
        "print(f\"Output shape MSA block: {patched_image_through_msa_block.shape}\")"
      ],
      "metadata": {
        "id": "xhKU_zH22PFH",
        "colab": {
          "base_uri": "https://localhost:8080/"
        },
        "outputId": "1bb45185-0aff-4886-ba4a-d1b450a63a5f"
      },
      "execution_count": 37,
      "outputs": [
        {
          "output_type": "stream",
          "name": "stdout",
          "text": [
            "Input shape of MSA block: torch.Size([1, 65, 256])\n",
            "Output shape MSA block: torch.Size([1, 65, 256])\n"
          ]
        }
      ]
    },
    {
      "cell_type": "markdown",
      "source": [
        "Equation 3: Multilayer Perceptron (MLP)"
      ],
      "metadata": {
        "id": "T-aI825s2lYo"
      }
    },
    {
      "cell_type": "markdown",
      "source": [
        "Replicating Equation 3 with PyTorch layers"
      ],
      "metadata": {
        "id": "if1sTjvt2sch"
      }
    },
    {
      "cell_type": "code",
      "source": [
        "# 1. Create a class that inherits from nn.Module\n",
        "class MLPBlock(nn.Module):\n",
        "    \"\"\"Creates a layer normalized multilayer perceptron block (\"MLP block\" for short).\"\"\"\n",
        "    # 2. Initialize the class with hyperparameters from Table 1 and Table 3\n",
        "    def __init__(self,\n",
        "                 embedding_dim:int=256, # Hidden Size D from Table 1 for ViT-Base\n",
        "                 mlp_size:int=512, # MLP size from Table 1 for ViT-Base\n",
        "                 dropout:float=0.1): # Dropout from Table 3 for ViT-Base\n",
        "        super().__init__()\n",
        "\n",
        "        # 3. Create the Norm layer (LN)\n",
        "        self.layer_norm = nn.LayerNorm(normalized_shape=embedding_dim)\n",
        "\n",
        "        # 4. Create the Multilayer perceptron (MLP) layer(s)\n",
        "        self.mlp = nn.Sequential(\n",
        "            nn.Linear(in_features=embedding_dim,\n",
        "                      out_features=mlp_size),\n",
        "            nn.GELU(), # \"The MLP contains two layers with a GELU non-linearity (section 3.1).\"\n",
        "            nn.Dropout(p=dropout),\n",
        "            nn.Linear(in_features=mlp_size, # needs to take same in_features as out_features of layer above\n",
        "                      out_features=embedding_dim), # take back to embedding_dim\n",
        "            nn.Dropout(p=dropout) # \"Dropout, when used, is applied after every dense layer..\"\n",
        "        )\n",
        "\n",
        "    # 5. Create a forward() method to pass the data through the layers\n",
        "    def forward(self, x):\n",
        "        x = self.layer_norm(x)\n",
        "        x = self.mlp(x)\n",
        "        return x"
      ],
      "metadata": {
        "id": "Ug_Le7dk2cCc"
      },
      "execution_count": 38,
      "outputs": []
    },
    {
      "cell_type": "code",
      "source": [
        "# Create an instance of MLPBlock\n",
        "mlp_block = MLPBlock(embedding_dim=256, # from Table 1\n",
        "                     mlp_size=512, # from Table 1\n",
        "                     dropout=0.1) # from Table 3\n",
        "\n",
        "# Pass output of MSABlock through MLPBlock\n",
        "patched_image_through_mlp_block = mlp_block(patched_image_through_msa_block)\n",
        "print(f\"Input shape of MLP block: {patched_image_through_msa_block.shape}\")\n",
        "print(f\"Output shape MLP block: {patched_image_through_mlp_block.shape}\")"
      ],
      "metadata": {
        "id": "Pr_AAjEs3vEO",
        "colab": {
          "base_uri": "https://localhost:8080/"
        },
        "outputId": "917e828e-237e-4acd-cf30-7b4b039c78e2"
      },
      "execution_count": 39,
      "outputs": [
        {
          "output_type": "stream",
          "name": "stdout",
          "text": [
            "Input shape of MLP block: torch.Size([1, 65, 256])\n",
            "Output shape MLP block: torch.Size([1, 65, 256])\n"
          ]
        }
      ]
    },
    {
      "cell_type": "markdown",
      "source": [
        "Create the Transformer Encoder"
      ],
      "metadata": {
        "id": "ttRRyxlZ5Buh"
      }
    },
    {
      "cell_type": "markdown",
      "source": [
        "Creating a Transformer Encoder by combining our custom made layers"
      ],
      "metadata": {
        "id": "PNrvKg1O5Z6M"
      }
    },
    {
      "cell_type": "code",
      "source": [
        "# 1. Create a class that inherits from nn.Module\n",
        "class TransformerEncoderBlock(nn.Module):\n",
        "    \"\"\"Creates a Transformer Encoder block.\"\"\"\n",
        "    # 2. Initialize the class with hyperparameters from Table 1 and Table 3\n",
        "    def __init__(self,\n",
        "                 embedding_dim:int=256, # Hidden size D from Table 1 for ViT-Base\n",
        "                 num_heads:int=8, # Heads from Table 1 for ViT-Base\n",
        "                 mlp_size:int=512, # MLP size from Table 1 for ViT-Base\n",
        "                 mlp_dropout:float=0.1, # Amount of dropout for dense layers from Table 3 for ViT-Base\n",
        "                 attn_dropout:float=0): # Amount of dropout for attention layers\n",
        "        super().__init__()\n",
        "\n",
        "        # 3. Create MSA block (equation 2)\n",
        "        self.msa_block = MultiheadSelfAttentionBlock(embedding_dim=embedding_dim,\n",
        "                                                     num_heads=num_heads,\n",
        "                                                     attn_dropout=attn_dropout)\n",
        "\n",
        "        # 4. Create MLP block (equation 3)\n",
        "        self.mlp_block =  MLPBlock(embedding_dim=embedding_dim,\n",
        "                                   mlp_size=mlp_size,\n",
        "                                   dropout=mlp_dropout)\n",
        "\n",
        "    # 5. Create a forward() method\n",
        "    def forward(self, x):\n",
        "\n",
        "        # 6. Create residual connection for MSA block (add the input to the output)\n",
        "        x =  self.msa_block(x) + x # Fix: Assign the result back to x\n",
        "\n",
        "        # 7. Create residual connection for MLP block (add the input to the output)\n",
        "        x = self.mlp_block(x) + x\n",
        "\n",
        "        return x # Return the output of the block"
      ],
      "metadata": {
        "id": "vrpdj5QZ4vno"
      },
      "execution_count": 40,
      "outputs": []
    },
    {
      "cell_type": "code",
      "source": [
        "# Create an instance of TransformerEncoderBlock\n",
        "transformer_encoder_block = TransformerEncoderBlock()\n",
        "\n",
        "# # Print an input and output summary of our Transformer Encoder (uncomment for full output)\n",
        "summary(model=transformer_encoder_block,\n",
        "         input_size=(1, 65, 256), # (batch_size, num_patches, embedding_dimension)\n",
        "         col_names=[\"input_size\", \"output_size\", \"num_params\", \"trainable\"],\n",
        "         col_width=20,\n",
        "         row_settings=[\"var_names\"])"
      ],
      "metadata": {
        "id": "1ORgIspX5iyE",
        "colab": {
          "base_uri": "https://localhost:8080/"
        },
        "outputId": "4eaeb28e-21ac-4c8f-9435-6b6844fa6afb"
      },
      "execution_count": 41,
      "outputs": [
        {
          "output_type": "execute_result",
          "data": {
            "text/plain": [
              "==================================================================================================================================\n",
              "Layer (type (var_name))                            Input Shape          Output Shape         Param #              Trainable\n",
              "==================================================================================================================================\n",
              "TransformerEncoderBlock (TransformerEncoderBlock)  [1, 65, 256]         [1, 65, 256]         --                   True\n",
              "├─MultiheadSelfAttentionBlock (msa_block)          [1, 65, 256]         [1, 65, 256]         --                   True\n",
              "│    └─LayerNorm (layer_norm)                      [1, 65, 256]         [1, 65, 256]         512                  True\n",
              "│    └─MultiheadAttention (multihead_attn)         --                   [1, 65, 256]         263,168              True\n",
              "├─MLPBlock (mlp_block)                             [1, 65, 256]         [1, 65, 256]         --                   True\n",
              "│    └─LayerNorm (layer_norm)                      [1, 65, 256]         [1, 65, 256]         512                  True\n",
              "│    └─Sequential (mlp)                            [1, 65, 256]         [1, 65, 256]         --                   True\n",
              "│    │    └─Linear (0)                             [1, 65, 256]         [1, 65, 512]         131,584              True\n",
              "│    │    └─GELU (1)                               [1, 65, 512]         [1, 65, 512]         --                   --\n",
              "│    │    └─Dropout (2)                            [1, 65, 512]         [1, 65, 512]         --                   --\n",
              "│    │    └─Linear (3)                             [1, 65, 512]         [1, 65, 256]         131,328              True\n",
              "│    │    └─Dropout (4)                            [1, 65, 256]         [1, 65, 256]         --                   --\n",
              "==================================================================================================================================\n",
              "Total params: 527,104\n",
              "Trainable params: 527,104\n",
              "Non-trainable params: 0\n",
              "Total mult-adds (Units.MEGABYTES): 0.26\n",
              "==================================================================================================================================\n",
              "Input size (MB): 0.07\n",
              "Forward/backward pass size (MB): 0.67\n",
              "Params size (MB): 1.06\n",
              "Estimated Total Size (MB): 1.79\n",
              "=================================================================================================================================="
            ]
          },
          "metadata": {},
          "execution_count": 41
        }
      ]
    },
    {
      "cell_type": "markdown",
      "source": [
        "Creating a Transformer Encoder with PyTorch's Transformer layers"
      ],
      "metadata": {
        "id": "fVC9rXq36BDg"
      }
    },
    {
      "cell_type": "code",
      "source": [
        "# Create the same as above with torch.nn.TransformerEncoderLayer()\n",
        "torch_transformer_encoder_layer = nn.TransformerEncoderLayer(d_model=256, # Hidden size D from Table 1 for ViT-Base\n",
        "                                                             nhead=8, # Heads from Table 1 for ViT-Base\n",
        "                                                             dim_feedforward=512, # MLP size from Table 1 for ViT-Base\n",
        "                                                             dropout=0.1, # Amount of dropout for dense layers from Table 3 for ViT-Base\n",
        "                                                             activation=\"gelu\", # GELU non-linear activation\n",
        "                                                             batch_first=True, # Do our batches come first?\n",
        "                                                             norm_first=True) # Normalize first or after MSA/MLP layers?\n",
        "\n",
        "torch_transformer_encoder_layer"
      ],
      "metadata": {
        "id": "yqI1e7D95vu9",
        "colab": {
          "base_uri": "https://localhost:8080/"
        },
        "outputId": "2d831f5a-c463-4d07-93da-e4b1193e0520"
      },
      "execution_count": 42,
      "outputs": [
        {
          "output_type": "execute_result",
          "data": {
            "text/plain": [
              "TransformerEncoderLayer(\n",
              "  (self_attn): MultiheadAttention(\n",
              "    (out_proj): NonDynamicallyQuantizableLinear(in_features=256, out_features=256, bias=True)\n",
              "  )\n",
              "  (linear1): Linear(in_features=256, out_features=512, bias=True)\n",
              "  (dropout): Dropout(p=0.1, inplace=False)\n",
              "  (linear2): Linear(in_features=512, out_features=256, bias=True)\n",
              "  (norm1): LayerNorm((256,), eps=1e-05, elementwise_affine=True)\n",
              "  (norm2): LayerNorm((256,), eps=1e-05, elementwise_affine=True)\n",
              "  (dropout1): Dropout(p=0.1, inplace=False)\n",
              "  (dropout2): Dropout(p=0.1, inplace=False)\n",
              ")"
            ]
          },
          "metadata": {},
          "execution_count": 42
        }
      ]
    },
    {
      "cell_type": "code",
      "source": [
        "# Get the output of PyTorch's version of the Transformer Encoder (uncomment for full output)\n",
        "summary(model=torch_transformer_encoder_layer,\n",
        "        input_size=(1, 65, 256), # (batch_size, num_patches, embedding_dimension)\n",
        "        col_names=[\"input_size\", \"output_size\", \"num_params\", \"trainable\"],\n",
        "        col_width=20,\n",
        "        row_settings=[\"var_names\"])"
      ],
      "metadata": {
        "id": "DfsBG3ue6IGh",
        "colab": {
          "base_uri": "https://localhost:8080/"
        },
        "outputId": "963fc65b-9c8f-46df-a335-566062b39c10"
      },
      "execution_count": 43,
      "outputs": [
        {
          "output_type": "execute_result",
          "data": {
            "text/plain": [
              "==================================================================================================================================\n",
              "Layer (type (var_name))                            Input Shape          Output Shape         Param #              Trainable\n",
              "==================================================================================================================================\n",
              "TransformerEncoderLayer (TransformerEncoderLayer)  [1, 65, 256]         [1, 65, 256]         --                   True\n",
              "├─LayerNorm (norm1)                                [1, 65, 256]         [1, 65, 256]         512                  True\n",
              "├─MultiheadAttention (self_attn)                   [1, 65, 256]         [1, 65, 256]         263,168              True\n",
              "├─Dropout (dropout1)                               [1, 65, 256]         [1, 65, 256]         --                   --\n",
              "├─LayerNorm (norm2)                                [1, 65, 256]         [1, 65, 256]         512                  True\n",
              "├─Linear (linear1)                                 [1, 65, 256]         [1, 65, 512]         131,584              True\n",
              "├─Dropout (dropout)                                [1, 65, 512]         [1, 65, 512]         --                   --\n",
              "├─Linear (linear2)                                 [1, 65, 512]         [1, 65, 256]         131,328              True\n",
              "├─Dropout (dropout2)                               [1, 65, 256]         [1, 65, 256]         --                   --\n",
              "==================================================================================================================================\n",
              "Total params: 527,104\n",
              "Trainable params: 527,104\n",
              "Non-trainable params: 0\n",
              "Total mult-adds (Units.MEGABYTES): 0.26\n",
              "==================================================================================================================================\n",
              "Input size (MB): 0.07\n",
              "Forward/backward pass size (MB): 0.67\n",
              "Params size (MB): 1.06\n",
              "Estimated Total Size (MB): 1.79\n",
              "=================================================================================================================================="
            ]
          },
          "metadata": {},
          "execution_count": 43
        }
      ]
    },
    {
      "cell_type": "markdown",
      "source": [
        "Putting it all together to create ViT"
      ],
      "metadata": {
        "id": "qpaazQTK6XH7"
      }
    },
    {
      "cell_type": "code",
      "source": [
        "# 1. Create a ViT class that inherits from nn.Module\n",
        "class ViT(nn.Module):\n",
        "    \"\"\"Creates a Vision Transformer architecture with ViT-Base hyperparameters by default.\"\"\"\n",
        "    # 2. Initialize the class with hyperparameters from Table 1 and Table 3\n",
        "    def __init__(self,\n",
        "                 img_size:int=32, # Training resolution from Table 3 in ViT paper\n",
        "                 in_channels:int=3, # Number of channels in input image\n",
        "                 patch_size:int=4, # Patch size\n",
        "                 num_transformer_layers:int=8, # Layers from Table 1 for ViT-Base\n",
        "                 embedding_dim:int=256, # Hidden size D from Table 1 for ViT-Base\n",
        "                 mlp_size:int=512, # MLP size from Table 1 for ViT-Base\n",
        "                 num_heads:int=8, # Heads from Table 1 for ViT-Base\n",
        "                 attn_dropout:float=0, # Dropout for attention projection\n",
        "                 mlp_dropout:float=0.1, # Dropout for dense/MLP layers\n",
        "                 embedding_dropout:float=0.1, # Dropout for patch and position embeddings\n",
        "                 num_classes:int=1000): # Default for ImageNet but can customize this\n",
        "        super().__init__() # don't forget the super().__init__()!\n",
        "\n",
        "        # 3. Make the image size is divisible by the patch size\n",
        "        assert img_size % patch_size == 0, f\"Image size must be divisible by patch size, image size: {img_size}, patch size: {patch_size}.\"\n",
        "\n",
        "        # 4. Calculate number of patches (height * width/patch^2)\n",
        "        self.num_patches = (img_size * img_size) // patch_size**2\n",
        "\n",
        "        # 5. Create learnable class embedding (needs to go at front of sequence of patch embeddings)\n",
        "        self.class_embedding = nn.Parameter(data=torch.randn(1, 1, embedding_dim),\n",
        "                                            requires_grad=True)\n",
        "\n",
        "        # 6. Create learnable position embedding\n",
        "        self.position_embedding = nn.Parameter(data=torch.randn(1, self.num_patches+1, embedding_dim),\n",
        "                                               requires_grad=True)\n",
        "\n",
        "        # 7. Create embedding dropout value\n",
        "        self.embedding_dropout = nn.Dropout(p=embedding_dropout)\n",
        "\n",
        "        # 8. Create patch embedding layer\n",
        "        self.patch_embedding = PatchEmbedding(in_channels=in_channels,\n",
        "                                              patch_size=patch_size,\n",
        "                                              embedding_dim=embedding_dim)\n",
        "\n",
        "        # 9. Create Transformer Encoder blocks (we can stack Transformer Encoder blocks using nn.Sequential())\n",
        "        # Note: The \"*\" means \"all\"\n",
        "        self.transformer_encoder = nn.Sequential(*[TransformerEncoderBlock(embedding_dim=embedding_dim,\n",
        "                                                                            num_heads=num_heads,\n",
        "                                                                            mlp_size=mlp_size,\n",
        "                                                                            mlp_dropout=mlp_dropout) for _ in range(num_transformer_layers)])\n",
        "\n",
        "        # 10. Create classifier head\n",
        "        self.classifier = nn.Sequential(\n",
        "            nn.LayerNorm(normalized_shape=embedding_dim),\n",
        "            nn.Linear(in_features=embedding_dim,\n",
        "                      out_features=num_classes)\n",
        "        )\n",
        "\n",
        "    # 11. Create a forward() method\n",
        "    def forward(self, x):\n",
        "\n",
        "        # 12. Get batch size\n",
        "        batch_size = x.shape[0]\n",
        "\n",
        "        # 13. Create class token embedding and expand it to match the batch size (equation 1)\n",
        "        class_token = self.class_embedding.expand(batch_size, -1, -1) # \"-1\" means to infer the dimension (try this line on its own)\n",
        "\n",
        "        # 14. Create patch embedding (equation 1)\n",
        "        x = self.patch_embedding(x)\n",
        "\n",
        "        # 15. Concat class embedding and patch embedding (equation 1)\n",
        "        x = torch.cat((class_token, x), dim=1)\n",
        "\n",
        "        # 16. Add position embedding to patch embedding (equation 1)\n",
        "        x = self.position_embedding + x\n",
        "\n",
        "        # 17. Run embedding dropout (Appendix B.1)\n",
        "        x = self.embedding_dropout(x)\n",
        "\n",
        "        # 18. Pass patch, position and class embedding through transformer encoder layers (equations 2 & 3)\n",
        "        x = self.transformer_encoder(x)\n",
        "\n",
        "        # 19. Put 0 index logit through classifier (equation 4)\n",
        "        x = self.classifier(x[:, 0]) # run on each sample in a batch at 0 index\n",
        "\n",
        "        return x"
      ],
      "metadata": {
        "id": "tZkxzrcp6LxI"
      },
      "execution_count": 44,
      "outputs": []
    },
    {
      "cell_type": "code",
      "source": [
        "# Example of creating the class embedding and expanding over a batch dimension\n",
        "batch_size = 128\n",
        "class_token_embedding_single = nn.Parameter(data=torch.randn(1, 1, 256)) # create a single learnable class token\n",
        "class_token_embedding_expanded = class_token_embedding_single.expand(batch_size, -1, -1) # expand the single learnable class token across the batch dimension, \"-1\" means to \"infer the dimension\"\n",
        "\n",
        "# Print out the change in shapes\n",
        "print(f\"Shape of class token embedding single: {class_token_embedding_single.shape}\")\n",
        "print(f\"Shape of class token embedding expanded: {class_token_embedding_expanded.shape}\")"
      ],
      "metadata": {
        "id": "Hj8JVVPw7D0W",
        "colab": {
          "base_uri": "https://localhost:8080/"
        },
        "outputId": "3a6e46f1-b617-4486-9d05-ee139010d77f"
      },
      "execution_count": 45,
      "outputs": [
        {
          "output_type": "stream",
          "name": "stdout",
          "text": [
            "Shape of class token embedding single: torch.Size([1, 1, 256])\n",
            "Shape of class token embedding expanded: torch.Size([128, 1, 256])\n"
          ]
        }
      ]
    },
    {
      "cell_type": "code",
      "source": [
        "set_seeds()\n",
        "\n",
        "# Create a random tensor with same shape as a single image\n",
        "random_image_tensor = torch.randn(128, 3, 32, 32) # (batch_size, color_channels, height, width)\n",
        "\n",
        "# Create an instance of ViT with the number of classes we're working with (pizza, steak, sushi)\n",
        "vit = ViT(num_classes=len(class_names))\n",
        "\n",
        "# Pass the random image tensor to our ViT instance\n",
        "vit(random_image_tensor)"
      ],
      "metadata": {
        "id": "DJHmAqhM7I9J",
        "colab": {
          "base_uri": "https://localhost:8080/"
        },
        "outputId": "d3112754-cf78-459c-9c86-0a0d6eafdf04"
      },
      "execution_count": 46,
      "outputs": [
        {
          "output_type": "execute_result",
          "data": {
            "text/plain": [
              "tensor([[-0.4507,  0.0631,  0.5796,  ..., -0.9570,  0.7591, -0.2505],\n",
              "        [-0.3665,  0.0729,  0.9038,  ..., -0.5545,  0.5811, -0.1363],\n",
              "        [-0.2450, -0.2561,  0.5259,  ..., -0.6108,  0.5411,  0.1714],\n",
              "        ...,\n",
              "        [-0.3274, -0.1181,  0.8552,  ..., -0.7302,  0.2479, -0.3989],\n",
              "        [-0.2731, -0.0120,  0.5579,  ..., -0.4843,  0.7512, -0.2332],\n",
              "        [-0.0619, -0.5508,  0.7139,  ..., -0.5400,  0.4947, -0.2643]],\n",
              "       grad_fn=<AddmmBackward0>)"
            ]
          },
          "metadata": {},
          "execution_count": 46
        }
      ]
    },
    {
      "cell_type": "code",
      "source": [
        "from torchinfo import summary\n",
        "\n",
        " # Print a summary of our custom ViT model using torchinfo (uncomment for actual output)\n",
        "summary(model=vit,\n",
        "        input_size=(128, 3, 32, 32), # (batch_size, color_channels, height, width)\n",
        "        # col_names=[\"input_size\"], # uncomment for smaller output\n",
        "        col_names=[\"input_size\", \"output_size\", \"num_params\", \"trainable\"],\n",
        "        col_width=20,\n",
        "        row_settings=[\"var_names\"]\n",
        ")"
      ],
      "metadata": {
        "id": "QnW1g0SU7NuF",
        "colab": {
          "base_uri": "https://localhost:8080/"
        },
        "outputId": "ffe9a4bd-2e57-47c1-b5f3-e4cb2184f551"
      },
      "execution_count": 47,
      "outputs": [
        {
          "output_type": "execute_result",
          "data": {
            "text/plain": [
              "============================================================================================================================================\n",
              "Layer (type (var_name))                                      Input Shape          Output Shape         Param #              Trainable\n",
              "============================================================================================================================================\n",
              "ViT (ViT)                                                    [128, 3, 32, 32]     [128, 10]            16,896               True\n",
              "├─PatchEmbedding (patch_embedding)                           [128, 3, 32, 32]     [128, 64, 256]       --                   True\n",
              "│    └─Conv2d (patcher)                                      [128, 3, 32, 32]     [128, 256, 8, 8]     12,544               True\n",
              "│    └─Flatten (flatten)                                     [128, 256, 8, 8]     [128, 256, 64]       --                   --\n",
              "├─Dropout (embedding_dropout)                                [128, 65, 256]       [128, 65, 256]       --                   --\n",
              "├─Sequential (transformer_encoder)                           [128, 65, 256]       [128, 65, 256]       --                   True\n",
              "│    └─TransformerEncoderBlock (0)                           [128, 65, 256]       [128, 65, 256]       --                   True\n",
              "│    │    └─MultiheadSelfAttentionBlock (msa_block)          [128, 65, 256]       [128, 65, 256]       263,680              True\n",
              "│    │    └─MLPBlock (mlp_block)                             [128, 65, 256]       [128, 65, 256]       263,424              True\n",
              "│    └─TransformerEncoderBlock (1)                           [128, 65, 256]       [128, 65, 256]       --                   True\n",
              "│    │    └─MultiheadSelfAttentionBlock (msa_block)          [128, 65, 256]       [128, 65, 256]       263,680              True\n",
              "│    │    └─MLPBlock (mlp_block)                             [128, 65, 256]       [128, 65, 256]       263,424              True\n",
              "│    └─TransformerEncoderBlock (2)                           [128, 65, 256]       [128, 65, 256]       --                   True\n",
              "│    │    └─MultiheadSelfAttentionBlock (msa_block)          [128, 65, 256]       [128, 65, 256]       263,680              True\n",
              "│    │    └─MLPBlock (mlp_block)                             [128, 65, 256]       [128, 65, 256]       263,424              True\n",
              "│    └─TransformerEncoderBlock (3)                           [128, 65, 256]       [128, 65, 256]       --                   True\n",
              "│    │    └─MultiheadSelfAttentionBlock (msa_block)          [128, 65, 256]       [128, 65, 256]       263,680              True\n",
              "│    │    └─MLPBlock (mlp_block)                             [128, 65, 256]       [128, 65, 256]       263,424              True\n",
              "│    └─TransformerEncoderBlock (4)                           [128, 65, 256]       [128, 65, 256]       --                   True\n",
              "│    │    └─MultiheadSelfAttentionBlock (msa_block)          [128, 65, 256]       [128, 65, 256]       263,680              True\n",
              "│    │    └─MLPBlock (mlp_block)                             [128, 65, 256]       [128, 65, 256]       263,424              True\n",
              "│    └─TransformerEncoderBlock (5)                           [128, 65, 256]       [128, 65, 256]       --                   True\n",
              "│    │    └─MultiheadSelfAttentionBlock (msa_block)          [128, 65, 256]       [128, 65, 256]       263,680              True\n",
              "│    │    └─MLPBlock (mlp_block)                             [128, 65, 256]       [128, 65, 256]       263,424              True\n",
              "│    └─TransformerEncoderBlock (6)                           [128, 65, 256]       [128, 65, 256]       --                   True\n",
              "│    │    └─MultiheadSelfAttentionBlock (msa_block)          [128, 65, 256]       [128, 65, 256]       263,680              True\n",
              "│    │    └─MLPBlock (mlp_block)                             [128, 65, 256]       [128, 65, 256]       263,424              True\n",
              "│    └─TransformerEncoderBlock (7)                           [128, 65, 256]       [128, 65, 256]       --                   True\n",
              "│    │    └─MultiheadSelfAttentionBlock (msa_block)          [128, 65, 256]       [128, 65, 256]       263,680              True\n",
              "│    │    └─MLPBlock (mlp_block)                             [128, 65, 256]       [128, 65, 256]       263,424              True\n",
              "├─Sequential (classifier)                                    [128, 256]           [128, 10]            --                   True\n",
              "│    └─LayerNorm (0)                                         [128, 256]           [128, 256]           512                  True\n",
              "│    └─Linear (1)                                            [128, 256]           [128, 10]            2,570                True\n",
              "============================================================================================================================================\n",
              "Total params: 4,249,354\n",
              "Trainable params: 4,249,354\n",
              "Non-trainable params: 0\n",
              "Total mult-adds (Units.MEGABYTES): 373.43\n",
              "============================================================================================================================================\n",
              "Input size (MB): 1.57\n",
              "Forward/backward pass size (MB): 698.62\n",
              "Params size (MB): 8.51\n",
              "Estimated Total Size (MB): 708.71\n",
              "============================================================================================================================================"
            ]
          },
          "metadata": {},
          "execution_count": 47
        }
      ]
    },
    {
      "cell_type": "markdown",
      "source": [
        "Setting up training code for our ViT model"
      ],
      "metadata": {
        "id": "8lZAt32O8ADz"
      }
    },
    {
      "cell_type": "code",
      "source": [
        "from going_modular.going_modular import engine\n",
        "\n",
        "# Setup optimizer and loss function\n",
        "criterion = nn.CrossEntropyLoss()\n",
        "\n",
        "optimizer = torch.optim.AdamW(\n",
        "    params=vit.parameters(),\n",
        "    lr=3e-4,\n",
        "    weight_decay=0.05\n",
        ")\n",
        "\n",
        "# Set the seeds\n",
        "set_seeds()\n",
        "\n",
        "# Train the model - pass OPTIMIZER not scheduler\n",
        "results = engine.train(\n",
        "    model=vit,\n",
        "    train_dataloader=train_dataloader,\n",
        "    test_dataloader=test_dataloader,\n",
        "    optimizer=optimizer,  # ← Pass optimizer here\n",
        "    loss_fn=criterion,\n",
        "    epochs=40,\n",
        "    device=device\n",
        ")"
      ],
      "metadata": {
        "id": "lfJ-hHUz7nQs",
        "colab": {
          "base_uri": "https://localhost:8080/",
          "height": 743,
          "referenced_widgets": [
            "09dc5a91331c44afb24c96a4d39301b6",
            "d704991b21be46409b833d6795411824",
            "fd5eb1974fff48d9bef39b759a0d2781",
            "5f6395ef4ac74963abd187eef8c64c3c",
            "9a66c2f13df241b89db3e16418cf7fd1",
            "c7f19df92cc541e49a18b02c805339be",
            "4df75041994647c89111c49cb900badb",
            "0cd5bbd21c3e44ea8671dd9fdec60b33",
            "ae1eb49b693f42d48a2f88621579cf4d",
            "4cc7c06d2b6240d49eecb55e89139671",
            "0250a7b070854c10aa7bc80990c2f56d"
          ]
        },
        "outputId": "ed3ac27c-eb6b-4cad-9e16-692c3973677c"
      },
      "execution_count": 48,
      "outputs": [
        {
          "output_type": "display_data",
          "data": {
            "text/plain": [
              "  0%|          | 0/40 [00:00<?, ?it/s]"
            ],
            "application/vnd.jupyter.widget-view+json": {
              "version_major": 2,
              "version_minor": 0,
              "model_id": "09dc5a91331c44afb24c96a4d39301b6"
            }
          },
          "metadata": {}
        },
        {
          "output_type": "stream",
          "name": "stdout",
          "text": [
            "Epoch: 1 | train_loss: 1.8172 | train_acc: 0.3337 | test_loss: 1.4961 | test_acc: 0.4610\n",
            "Epoch: 2 | train_loss: 1.5497 | train_acc: 0.4403 | test_loss: 1.3849 | test_acc: 0.5078\n",
            "Epoch: 3 | train_loss: 1.4386 | train_acc: 0.4813 | test_loss: 1.2476 | test_acc: 0.5477\n",
            "Epoch: 4 | train_loss: 1.3661 | train_acc: 0.5079 | test_loss: 1.2195 | test_acc: 0.5675\n",
            "Epoch: 5 | train_loss: 1.3003 | train_acc: 0.5341 | test_loss: 1.1605 | test_acc: 0.5825\n",
            "Epoch: 6 | train_loss: 1.2508 | train_acc: 0.5505 | test_loss: 1.1206 | test_acc: 0.6029\n",
            "Epoch: 7 | train_loss: 1.2026 | train_acc: 0.5682 | test_loss: 1.0438 | test_acc: 0.6245\n",
            "Epoch: 8 | train_loss: 1.1582 | train_acc: 0.5860 | test_loss: 1.0403 | test_acc: 0.6316\n",
            "Epoch: 9 | train_loss: 1.1138 | train_acc: 0.6034 | test_loss: 0.9927 | test_acc: 0.6476\n",
            "Epoch: 10 | train_loss: 1.0803 | train_acc: 0.6151 | test_loss: 0.9548 | test_acc: 0.6622\n",
            "Epoch: 11 | train_loss: 1.0418 | train_acc: 0.6289 | test_loss: 0.9511 | test_acc: 0.6620\n",
            "Epoch: 12 | train_loss: 1.0132 | train_acc: 0.6409 | test_loss: 0.9864 | test_acc: 0.6521\n",
            "Epoch: 13 | train_loss: 0.9829 | train_acc: 0.6514 | test_loss: 0.9150 | test_acc: 0.6756\n",
            "Epoch: 14 | train_loss: 0.9625 | train_acc: 0.6565 | test_loss: 0.8868 | test_acc: 0.6877\n",
            "Epoch: 15 | train_loss: 0.9263 | train_acc: 0.6721 | test_loss: 0.8531 | test_acc: 0.7012\n",
            "Epoch: 16 | train_loss: 0.9118 | train_acc: 0.6767 | test_loss: 0.9024 | test_acc: 0.6777\n",
            "Epoch: 17 | train_loss: 0.8876 | train_acc: 0.6862 | test_loss: 0.8451 | test_acc: 0.7019\n",
            "Epoch: 18 | train_loss: 0.8671 | train_acc: 0.6939 | test_loss: 0.7890 | test_acc: 0.7239\n",
            "Epoch: 19 | train_loss: 0.8466 | train_acc: 0.7014 | test_loss: 0.7988 | test_acc: 0.7243\n",
            "Epoch: 20 | train_loss: 0.8214 | train_acc: 0.7080 | test_loss: 0.7973 | test_acc: 0.7222\n",
            "Epoch: 21 | train_loss: 0.8070 | train_acc: 0.7125 | test_loss: 0.7831 | test_acc: 0.7308\n",
            "Epoch: 22 | train_loss: 0.7927 | train_acc: 0.7202 | test_loss: 0.7551 | test_acc: 0.7376\n",
            "Epoch: 23 | train_loss: 0.7751 | train_acc: 0.7242 | test_loss: 0.7294 | test_acc: 0.7462\n",
            "Epoch: 24 | train_loss: 0.7531 | train_acc: 0.7320 | test_loss: 0.7444 | test_acc: 0.7444\n",
            "Epoch: 25 | train_loss: 0.7369 | train_acc: 0.7410 | test_loss: 0.7366 | test_acc: 0.7390\n",
            "Epoch: 26 | train_loss: 0.7215 | train_acc: 0.7438 | test_loss: 0.7010 | test_acc: 0.7569\n",
            "Epoch: 27 | train_loss: 0.7058 | train_acc: 0.7504 | test_loss: 0.7066 | test_acc: 0.7560\n",
            "Epoch: 28 | train_loss: 0.6870 | train_acc: 0.7561 | test_loss: 0.7188 | test_acc: 0.7534\n",
            "Epoch: 29 | train_loss: 0.6764 | train_acc: 0.7623 | test_loss: 0.7154 | test_acc: 0.7551\n",
            "Epoch: 30 | train_loss: 0.6594 | train_acc: 0.7654 | test_loss: 0.6749 | test_acc: 0.7664\n",
            "Epoch: 31 | train_loss: 0.6506 | train_acc: 0.7682 | test_loss: 0.6822 | test_acc: 0.7670\n",
            "Epoch: 32 | train_loss: 0.6300 | train_acc: 0.7771 | test_loss: 0.6586 | test_acc: 0.7715\n",
            "Epoch: 33 | train_loss: 0.6209 | train_acc: 0.7803 | test_loss: 0.6416 | test_acc: 0.7760\n",
            "Epoch: 34 | train_loss: 0.6082 | train_acc: 0.7826 | test_loss: 0.6437 | test_acc: 0.7790\n",
            "Epoch: 35 | train_loss: 0.5950 | train_acc: 0.7877 | test_loss: 0.6539 | test_acc: 0.7726\n",
            "Epoch: 36 | train_loss: 0.5850 | train_acc: 0.7915 | test_loss: 0.6372 | test_acc: 0.7842\n",
            "Epoch: 37 | train_loss: 0.5724 | train_acc: 0.7956 | test_loss: 0.6389 | test_acc: 0.7780\n",
            "Epoch: 38 | train_loss: 0.5623 | train_acc: 0.8002 | test_loss: 0.6349 | test_acc: 0.7827\n",
            "Epoch: 39 | train_loss: 0.5496 | train_acc: 0.8046 | test_loss: 0.6381 | test_acc: 0.7830\n",
            "Epoch: 40 | train_loss: 0.5378 | train_acc: 0.8095 | test_loss: 0.6470 | test_acc: 0.7794\n"
          ]
        }
      ]
    },
    {
      "cell_type": "markdown",
      "source": [
        "Here you can compare the outcomes of each epoch in form of two graps in which first graph is Loss graph (which gives train loss v/s test loss) and second graph is Accuracy graph (which gives train acc v/s test acc)"
      ],
      "metadata": {
        "id": "cEhrBilgzuz9"
      }
    },
    {
      "cell_type": "code",
      "source": [
        "from helper_functions import plot_loss_curves\n",
        "\n",
        "# Plot our ViT model's loss curves\n",
        "plot_loss_curves(results)"
      ],
      "metadata": {
        "id": "X_kS-O_jjdtG",
        "colab": {
          "base_uri": "https://localhost:8080/",
          "height": 641
        },
        "outputId": "88413fdf-dc82-4eac-fa10-72bb5c06246d"
      },
      "execution_count": 49,
      "outputs": [
        {
          "output_type": "display_data",
          "data": {
            "text/plain": [
              "<Figure size 1500x700 with 2 Axes>"
            ],
            "image/png": "[encoded data removed]"
          },
          "metadata": {}
        }
      ]
    },
    {
      "cell_type": "code",
      "source": [],
      "metadata": {
        "id": "0vyVRyHjsTm0"
      },
      "execution_count": 49,
      "outputs": []
    }
  ]
}